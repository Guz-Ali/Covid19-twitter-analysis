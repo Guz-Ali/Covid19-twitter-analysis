{
 "cells": [
  {
   "cell_type": "code",
   "execution_count": 192,
   "metadata": {},
   "outputs": [],
   "source": [
    "\"\"\"\n",
    "Use the csv files created by the code, and put the final label for each text on each\n",
    "lockdown, mask, and vaccination file for each dataset.\n",
    "\"\"\"\n",
    "import pandas as pd\n",
    "from sklearn import metrics"
   ]
  },
  {
   "cell_type": "markdown",
   "metadata": {},
   "source": [
    "# Primary Sets"
   ]
  },
  {
   "cell_type": "markdown",
   "metadata": {},
   "source": [
    "# Dataset 0"
   ]
  },
  {
   "cell_type": "code",
   "execution_count": 193,
   "metadata": {},
   "outputs": [],
   "source": [
    "df_0 = pd.read_csv('twitter_topic_0.csv')"
   ]
  },
  {
   "cell_type": "code",
   "execution_count": 194,
   "metadata": {},
   "outputs": [],
   "source": [
    "df_0.fillna('missing', inplace=True)"
   ]
  },
  {
   "cell_type": "code",
   "execution_count": 195,
   "metadata": {},
   "outputs": [],
   "source": [
    "df_0_lockdown = pd.read_csv('twitter_topic_0_lockdowns.csv')"
   ]
  },
  {
   "cell_type": "code",
   "execution_count": 196,
   "metadata": {},
   "outputs": [],
   "source": [
    "df_0_mask = pd.read_csv('twitter_topic_0_masking_and_distancing.csv')"
   ]
  },
  {
   "cell_type": "code",
   "execution_count": 197,
   "metadata": {},
   "outputs": [],
   "source": [
    "df_0_vaccination = pd.read_csv('twitter_topic_0_vaccination.csv')"
   ]
  },
  {
   "cell_type": "code",
   "execution_count": 198,
   "metadata": {},
   "outputs": [],
   "source": [
    "#df_0.head()"
   ]
  },
  {
   "cell_type": "markdown",
   "metadata": {},
   "source": [
    "# Dataset 1"
   ]
  },
  {
   "cell_type": "code",
   "execution_count": 199,
   "metadata": {},
   "outputs": [],
   "source": [
    "df_1 = pd.read_csv('twitter_topic_1.csv')"
   ]
  },
  {
   "cell_type": "code",
   "execution_count": 200,
   "metadata": {},
   "outputs": [],
   "source": [
    "df_1.fillna('missing', inplace=True)"
   ]
  },
  {
   "cell_type": "code",
   "execution_count": 201,
   "metadata": {},
   "outputs": [],
   "source": [
    "df_1_lockdown = pd.read_csv('twitter_topic_1_lockdowns.csv')"
   ]
  },
  {
   "cell_type": "code",
   "execution_count": 202,
   "metadata": {},
   "outputs": [],
   "source": [
    "df_1_mask = pd.read_csv('twitter_topic_1_masking_and_distancing.csv')"
   ]
  },
  {
   "cell_type": "code",
   "execution_count": 203,
   "metadata": {},
   "outputs": [],
   "source": [
    "df_1_vaccination = pd.read_csv('twitter_topic_1_vaccination.csv')"
   ]
  },
  {
   "cell_type": "code",
   "execution_count": 204,
   "metadata": {},
   "outputs": [],
   "source": [
    "#df_1.head()"
   ]
  },
  {
   "cell_type": "markdown",
   "metadata": {},
   "source": [
    "# Dataset 2"
   ]
  },
  {
   "cell_type": "code",
   "execution_count": 205,
   "metadata": {},
   "outputs": [],
   "source": [
    "df_2 = pd.read_csv('twitter_topic_2.csv')"
   ]
  },
  {
   "cell_type": "code",
   "execution_count": 206,
   "metadata": {},
   "outputs": [],
   "source": [
    "df_2.fillna('missing', inplace=True)"
   ]
  },
  {
   "cell_type": "code",
   "execution_count": 207,
   "metadata": {},
   "outputs": [],
   "source": [
    "df_2_lockdown = pd.read_csv('twitter_topic_2_lockdowns.csv')"
   ]
  },
  {
   "cell_type": "code",
   "execution_count": 208,
   "metadata": {},
   "outputs": [],
   "source": [
    "df_2_mask = pd.read_csv('twitter_topic_2_masking_and_distancing.csv')"
   ]
  },
  {
   "cell_type": "code",
   "execution_count": 209,
   "metadata": {},
   "outputs": [],
   "source": [
    "df_2_vaccination = pd.read_csv('twitter_topic_2_vaccination.csv')"
   ]
  },
  {
   "cell_type": "code",
   "execution_count": 210,
   "metadata": {},
   "outputs": [],
   "source": [
    "#df_2.head()"
   ]
  },
  {
   "cell_type": "markdown",
   "metadata": {},
   "source": [
    "# Dataset 3"
   ]
  },
  {
   "cell_type": "code",
   "execution_count": 211,
   "metadata": {},
   "outputs": [],
   "source": [
    "df_3 = pd.read_csv('twitter_topic_3.csv')"
   ]
  },
  {
   "cell_type": "code",
   "execution_count": 212,
   "metadata": {},
   "outputs": [],
   "source": [
    "df_3.fillna('missing', inplace=True)"
   ]
  },
  {
   "cell_type": "code",
   "execution_count": 213,
   "metadata": {},
   "outputs": [],
   "source": [
    "df_3_lockdown = pd.read_csv('twitter_topic_3_lockdowns.csv')"
   ]
  },
  {
   "cell_type": "code",
   "execution_count": 214,
   "metadata": {},
   "outputs": [],
   "source": [
    "df_3_mask = pd.read_csv('twitter_topic_3_masking_and_distancing.csv')"
   ]
  },
  {
   "cell_type": "code",
   "execution_count": 215,
   "metadata": {},
   "outputs": [],
   "source": [
    "df_3_vaccination = pd.read_csv('twitter_topic_3_vaccination.csv')"
   ]
  },
  {
   "cell_type": "code",
   "execution_count": 216,
   "metadata": {},
   "outputs": [],
   "source": [
    "#df_3.head()"
   ]
  },
  {
   "cell_type": "markdown",
   "metadata": {},
   "source": [
    "# Dataset 4"
   ]
  },
  {
   "cell_type": "code",
   "execution_count": 217,
   "metadata": {},
   "outputs": [],
   "source": [
    "df_4 = pd.read_csv('twitter_topic_4.csv')"
   ]
  },
  {
   "cell_type": "code",
   "execution_count": 218,
   "metadata": {},
   "outputs": [],
   "source": [
    "df_4.fillna('missing', inplace=True)"
   ]
  },
  {
   "cell_type": "code",
   "execution_count": 219,
   "metadata": {},
   "outputs": [],
   "source": [
    "df_4_lockdown = pd.read_csv('twitter_topic_4_lockdowns.csv')"
   ]
  },
  {
   "cell_type": "code",
   "execution_count": 220,
   "metadata": {},
   "outputs": [],
   "source": [
    "df_4_mask = pd.read_csv('twitter_topic_4_masking_and_distancing.csv')"
   ]
  },
  {
   "cell_type": "code",
   "execution_count": 221,
   "metadata": {},
   "outputs": [],
   "source": [
    "df_4_vaccination = pd.read_csv('twitter_topic_4_vaccination.csv')"
   ]
  },
  {
   "cell_type": "code",
   "execution_count": 222,
   "metadata": {},
   "outputs": [],
   "source": [
    "#df_4.head()"
   ]
  },
  {
   "cell_type": "markdown",
   "metadata": {},
   "source": [
    "## Finding Kappa"
   ]
  },
  {
   "cell_type": "code",
   "execution_count": 223,
   "metadata": {},
   "outputs": [],
   "source": [
    "df_cur = df_4\n",
    "\n",
    "kappa_1 = (sklearn.metrics.cohen_kappa_score(df_cur.iloc[:, 1], df_cur.iloc[:, 2], \n",
    "                                             labels=None, weights=None, \n",
    "                                             sample_weight=None)\n",
    "          + sklearn.metrics.cohen_kappa_score(df_cur.iloc[:, 1], df_cur.iloc[:, 3], \n",
    "                                             labels=None, weights=None, \n",
    "                                             sample_weight=None)\n",
    "          +sklearn.metrics.cohen_kappa_score(df_cur.iloc[:, 1], df_cur.iloc[:, 4], \n",
    "                                             labels=None, weights=None, \n",
    "                                             sample_weight=None))/3\n",
    "\n",
    "kappa_2 = (sklearn.metrics.cohen_kappa_score(df_cur.iloc[:, 2], df_cur.iloc[:, 1], \n",
    "                                             labels=None, weights=None, \n",
    "                                             sample_weight=None)\n",
    "          + sklearn.metrics.cohen_kappa_score(df_cur.iloc[:, 2], df_cur.iloc[:, 3], \n",
    "                                             labels=None, weights=None, \n",
    "                                             sample_weight=None)\n",
    "          +sklearn.metrics.cohen_kappa_score(df_cur.iloc[:, 2], df_cur.iloc[:, 4], \n",
    "                                             labels=None, weights=None, \n",
    "                                             sample_weight=None))/3\n",
    "\n",
    "kappa_3 = (sklearn.metrics.cohen_kappa_score(df_cur.iloc[:, 3], df_cur.iloc[:, 1], \n",
    "                                             labels=None, weights=None, \n",
    "                                             sample_weight=None)\n",
    "          + sklearn.metrics.cohen_kappa_score(df_cur.iloc[:, 3], df_cur.iloc[:, 2], \n",
    "                                             labels=None, weights=None, \n",
    "                                             sample_weight=None)\n",
    "          +sklearn.metrics.cohen_kappa_score(df_cur.iloc[:, 3], df_cur.iloc[:, 4], \n",
    "                                             labels=None, weights=None, \n",
    "                                             sample_weight=None))/3\n",
    "\n",
    "kappa_4 = (sklearn.metrics.cohen_kappa_score(df_cur.iloc[:, 4], df_cur.iloc[:, 1], \n",
    "                                             labels=None, weights=None, \n",
    "                                             sample_weight=None)\n",
    "          + sklearn.metrics.cohen_kappa_score(df_cur.iloc[:, 4], df_0.iloc[:, 2], \n",
    "                                             labels=None, weights=None, \n",
    "                                             sample_weight=None)\n",
    "          +sklearn.metrics.cohen_kappa_score(df_cur.iloc[:, 4], df_cur.iloc[:, 3], \n",
    "                                             labels=None, weights=None, \n",
    "                                             sample_weight=None))/3"
   ]
  },
  {
   "cell_type": "code",
   "execution_count": 224,
   "metadata": {
    "scrolled": true
   },
   "outputs": [
    {
     "name": "stdout",
     "output_type": "stream",
     "text": [
      "kappa 1: 0.42244638903616977\n",
      "kappa 2: 0.4058658207123191\n",
      "kappa 3: 0.45586627942410124\n",
      "kappa 4: 0.3533498513688584\n"
     ]
    }
   ],
   "source": [
    "print('kappa 1:', kappa_1)\n",
    "print('kappa 2:', kappa_2)\n",
    "print('kappa 3:', kappa_3)\n",
    "print('kappa 4:', kappa_4)"
   ]
  },
  {
   "cell_type": "markdown",
   "metadata": {},
   "source": [
    "# Annotators, kappa's\n",
    "\n",
    "## df_0: \n",
    "### 4 Annotators, keep all.\n",
    "\n",
    "kappa 56: 0.37449258477361463\n",
    "\n",
    "kappa 57: 0.4628485822445733\n",
    "\n",
    "kappa 58: 0.36724433436200576\n",
    "\n",
    "kappa 59: 0.48572536773342634\n",
    "\n",
    "\n",
    "## df_1\n",
    "### 4 Annotators, keep all.\n",
    "\n",
    "kappa 91: 0.6210232245439785\n",
    "\n",
    "kappa 85: 0.5957329504706256\n",
    "\n",
    "kappa 86: 0.5975649954411598\n",
    "\n",
    "kappa 87: 0.38390911860685667 \n",
    "\n",
    "\n",
    "## df_2\n",
    "### 4 Annotators, keep all.\n",
    "\n",
    "kappa 51: 0.4724964451243631\n",
    "\n",
    "kappa 52: 0.34995673694855817\n",
    "\n",
    "kappa 53: 0.4956326545021735\n",
    "\n",
    "kappa 54: 0.37251496342922535\n",
    "\n",
    "## df_3\n",
    "### 4 Annotators, keep all.\n",
    "\n",
    "kappa 104: 0.44315735995110944\n",
    "\n",
    "kappa 101: 0.65511568783928\n",
    "\n",
    "kappa 102: 0.569458591203231\n",
    "\n",
    "kappa 103: 0.3508589039050169\n",
    "\n",
    "## df_4\n",
    "### 4 Annotators, keep all.\n",
    "\n",
    "kappa 72: 0.44315735995110944\n",
    "kappa 74: 0.65511568783928\n",
    "kappa 76: 0.569458591203231\n",
    "kappa 71: 0.3508589039050169\n",
    "\n"
   ]
  },
  {
   "cell_type": "markdown",
   "metadata": {},
   "source": [
    "# Labeling The Datasets\n",
    "### Do it for each dataset"
   ]
  },
  {
   "cell_type": "code",
   "execution_count": 237,
   "metadata": {},
   "outputs": [],
   "source": [
    "df_cur = df_4_lockdown\n",
    "df_cur['label'] = None\n",
    "\n",
    "for i in range(len(df_cur)):\n",
    "    label_true = 0\n",
    "    label_false = 0\n",
    "    \n",
    "    for col in df_cur.loc[i][1:]:\n",
    "        if col:\n",
    "            label_true+=1\n",
    "        else:\n",
    "            label_false+=1\n",
    "    \n",
    "    if label_true > label_false:\n",
    "        df_cur.iloc[i, 5] = True\n",
    "    elif label_true < label_false:\n",
    "        df_cur.iloc[i, 5] = False\n",
    "    else: #labels are same\n",
    "        kappa_scores = 0\n",
    "        kappa_scores += kappa_1 if df_cur.loc[i][1] else -kappa_1\n",
    "        kappa_scores += kappa_2 if df_cur.loc[i][1] else -kappa_2\n",
    "        kappa_scores += kappa_3 if df_cur.loc[i][1] else -kappa_3\n",
    "        kappa_scores += kappa_4 if df_cur.loc[i][1] else -kappa_4\n",
    "\n",
    "        df_cur.iloc[i, 5] = True if kappa_scores>=0 else False\n",
    "        \n",
    "df_4_lockdown = df_cur"
   ]
  },
  {
   "cell_type": "code",
   "execution_count": 238,
   "metadata": {},
   "outputs": [],
   "source": [
    "df_cur = df_4_mask\n",
    "df_cur['label'] = None\n",
    "\n",
    "for i in range(len(df_cur)):\n",
    "    label_true = 0\n",
    "    label_false = 0\n",
    "    \n",
    "    for col in df_cur.loc[i][1:]:\n",
    "        if col:\n",
    "            label_true+=1\n",
    "        else:\n",
    "            label_false+=1\n",
    "    \n",
    "    if label_true > label_false:\n",
    "        df_cur.iloc[i, 5] = True\n",
    "    elif label_true < label_false:\n",
    "        df_cur.iloc[i, 5] = False\n",
    "    else: #labels are same\n",
    "        kappa_scores = 0\n",
    "        kappa_scores += kappa_1 if df_cur.loc[i][1] else -kappa_1\n",
    "        kappa_scores += kappa_2 if df_cur.loc[i][1] else -kappa_2\n",
    "        kappa_scores += kappa_3 if df_cur.loc[i][1] else -kappa_3\n",
    "        kappa_scores += kappa_4 if df_cur.loc[i][1] else -kappa_4\n",
    "\n",
    "        df_cur.iloc[i, 5] = True if kappa_scores>=0 else False\n",
    "        \n",
    "df_4_mask = df_cur"
   ]
  },
  {
   "cell_type": "code",
   "execution_count": 239,
   "metadata": {},
   "outputs": [],
   "source": [
    "df_cur = df_4_vaccination\n",
    "df_cur['label'] = None\n",
    "\n",
    "for i in range(len(df_cur)):\n",
    "    label_true = 0\n",
    "    label_false = 0\n",
    "    \n",
    "    for col in df_cur.loc[i][1:]:\n",
    "        if col:\n",
    "            label_true+=1\n",
    "        else:\n",
    "            label_false+=1\n",
    "    \n",
    "    if label_true > label_false:\n",
    "        df_cur.iloc[i, 5] = True\n",
    "    elif label_true < label_false:\n",
    "        df_cur.iloc[i, 5] = False\n",
    "    else: #labels are same\n",
    "        kappa_scores = 0\n",
    "        kappa_scores += kappa_1 if df_cur.loc[i][1] else -kappa_1\n",
    "        kappa_scores += kappa_2 if df_cur.loc[i][1] else -kappa_2\n",
    "        kappa_scores += kappa_3 if df_cur.loc[i][1] else -kappa_3\n",
    "        kappa_scores += kappa_4 if df_cur.loc[i][1] else -kappa_4\n",
    "\n",
    "        df_cur.iloc[i, 5] = True if kappa_scores>=0 else False\n",
    "        \n",
    "df_4_vaccination = df_cur"
   ]
  },
  {
   "cell_type": "markdown",
   "metadata": {},
   "source": [
    "# Combine Datasets\n",
    "### Combine each label type to itself"
   ]
  },
  {
   "cell_type": "markdown",
   "metadata": {},
   "source": [
    "### Lockdown"
   ]
  },
  {
   "cell_type": "code",
   "execution_count": 242,
   "metadata": {},
   "outputs": [],
   "source": [
    "df_lockdown = df_0_lockdown[['text', 'label']]\n",
    "df_lockdown = df_lockdown.append(df_1_lockdown[['text','label']], ignore_index = True)\n",
    "df_lockdown = df_lockdown.append(df_2_lockdown[['text','label']], ignore_index = True)\n",
    "df_lockdown = df_lockdown.append(df_3_lockdown[['text','label']], ignore_index = True)\n",
    "df_lockdown = df_lockdown.append(df_4_lockdown[['text','label']], ignore_index = True)"
   ]
  },
  {
   "cell_type": "code",
   "execution_count": 254,
   "metadata": {},
   "outputs": [
    {
     "data": {
      "text/html": [
       "<div>\n",
       "<style scoped>\n",
       "    .dataframe tbody tr th:only-of-type {\n",
       "        vertical-align: middle;\n",
       "    }\n",
       "\n",
       "    .dataframe tbody tr th {\n",
       "        vertical-align: top;\n",
       "    }\n",
       "\n",
       "    .dataframe thead th {\n",
       "        text-align: right;\n",
       "    }\n",
       "</style>\n",
       "<table border=\"1\" class=\"dataframe\">\n",
       "  <thead>\n",
       "    <tr style=\"text-align: right;\">\n",
       "      <th></th>\n",
       "      <th>text</th>\n",
       "      <th>label</th>\n",
       "    </tr>\n",
       "  </thead>\n",
       "  <tbody>\n",
       "    <tr>\n",
       "      <th>0</th>\n",
       "      <td>Federal Judge Rules Against CDC, Throws Out Cr...</td>\n",
       "      <td>False</td>\n",
       "    </tr>\n",
       "    <tr>\n",
       "      <th>1</th>\n",
       "      <td>Indeed. Even in the dysfunctional US health sy...</td>\n",
       "      <td>False</td>\n",
       "    </tr>\n",
       "    <tr>\n",
       "      <th>2</th>\n",
       "      <td>a vaccine seems to be ESSENTIAL if we are to s...</td>\n",
       "      <td>False</td>\n",
       "    </tr>\n",
       "    <tr>\n",
       "      <th>3</th>\n",
       "      <td>Nurses union calls on CDC to reinstate univers...</td>\n",
       "      <td>False</td>\n",
       "    </tr>\n",
       "    <tr>\n",
       "      <th>4</th>\n",
       "      <td>Sirf  #MukeshAmbani  Company &amp;amp; it's Worker...</td>\n",
       "      <td>False</td>\n",
       "    </tr>\n",
       "    <tr>\n",
       "      <th>...</th>\n",
       "      <td>...</td>\n",
       "      <td>...</td>\n",
       "    </tr>\n",
       "    <tr>\n",
       "      <th>1495</th>\n",
       "      <td>Dr Reddy's Laboratories and Russian Direct Inv...</td>\n",
       "      <td>False</td>\n",
       "    </tr>\n",
       "    <tr>\n",
       "      <th>1496</th>\n",
       "      <td>\"#Covishield will be commercialised once the t...</td>\n",
       "      <td>False</td>\n",
       "    </tr>\n",
       "    <tr>\n",
       "      <th>1497</th>\n",
       "      <td>I am not, last lockdown here on RI was a compl...</td>\n",
       "      <td>False</td>\n",
       "    </tr>\n",
       "    <tr>\n",
       "      <th>1498</th>\n",
       "      <td>https://t.co/vuf52eSRgq  Why this warning or ...</td>\n",
       "      <td>False</td>\n",
       "    </tr>\n",
       "    <tr>\n",
       "      <th>1499</th>\n",
       "      <td>Opioid Prescribing Practices After the 2016 Re...</td>\n",
       "      <td>False</td>\n",
       "    </tr>\n",
       "  </tbody>\n",
       "</table>\n",
       "<p>1500 rows × 2 columns</p>\n",
       "</div>"
      ],
      "text/plain": [
       "                                                   text  label\n",
       "0     Federal Judge Rules Against CDC, Throws Out Cr...  False\n",
       "1     Indeed. Even in the dysfunctional US health sy...  False\n",
       "2     a vaccine seems to be ESSENTIAL if we are to s...  False\n",
       "3     Nurses union calls on CDC to reinstate univers...  False\n",
       "4     Sirf  #MukeshAmbani  Company &amp; it's Worker...  False\n",
       "...                                                 ...    ...\n",
       "1495  Dr Reddy's Laboratories and Russian Direct Inv...  False\n",
       "1496  \"#Covishield will be commercialised once the t...  False\n",
       "1497  I am not, last lockdown here on RI was a compl...  False\n",
       "1498   https://t.co/vuf52eSRgq  Why this warning or ...  False\n",
       "1499  Opioid Prescribing Practices After the 2016 Re...  False\n",
       "\n",
       "[1500 rows x 2 columns]"
      ]
     },
     "execution_count": 254,
     "metadata": {},
     "output_type": "execute_result"
    }
   ],
   "source": [
    "df_lockdown.head()"
   ]
  },
  {
   "cell_type": "code",
   "execution_count": 253,
   "metadata": {},
   "outputs": [],
   "source": [
    "df_lockdown.to_csv(\"twitter_topic_lockdown.csv\")"
   ]
  },
  {
   "cell_type": "markdown",
   "metadata": {},
   "source": [
    "### Masking and Distancing"
   ]
  },
  {
   "cell_type": "code",
   "execution_count": 246,
   "metadata": {},
   "outputs": [],
   "source": [
    "df_mask = df_0_mask[['text', 'label']]\n",
    "df_mask = df_mask.append(df_1_mask[['text','label']], ignore_index = True)\n",
    "df_mask = df_mask.append(df_2_mask[['text','label']], ignore_index = True)\n",
    "df_mask = df_mask.append(df_3_mask[['text','label']], ignore_index = True)\n",
    "df_mask = df_mask.append(df_4_mask[['text','label']], ignore_index = True)\n"
   ]
  },
  {
   "cell_type": "code",
   "execution_count": 255,
   "metadata": {},
   "outputs": [
    {
     "data": {
      "text/html": [
       "<div>\n",
       "<style scoped>\n",
       "    .dataframe tbody tr th:only-of-type {\n",
       "        vertical-align: middle;\n",
       "    }\n",
       "\n",
       "    .dataframe tbody tr th {\n",
       "        vertical-align: top;\n",
       "    }\n",
       "\n",
       "    .dataframe thead th {\n",
       "        text-align: right;\n",
       "    }\n",
       "</style>\n",
       "<table border=\"1\" class=\"dataframe\">\n",
       "  <thead>\n",
       "    <tr style=\"text-align: right;\">\n",
       "      <th></th>\n",
       "      <th>text</th>\n",
       "      <th>label</th>\n",
       "    </tr>\n",
       "  </thead>\n",
       "  <tbody>\n",
       "    <tr>\n",
       "      <th>0</th>\n",
       "      <td>Federal Judge Rules Against CDC, Throws Out Cr...</td>\n",
       "      <td>False</td>\n",
       "    </tr>\n",
       "    <tr>\n",
       "      <th>1</th>\n",
       "      <td>Indeed. Even in the dysfunctional US health sy...</td>\n",
       "      <td>False</td>\n",
       "    </tr>\n",
       "    <tr>\n",
       "      <th>2</th>\n",
       "      <td>a vaccine seems to be ESSENTIAL if we are to s...</td>\n",
       "      <td>False</td>\n",
       "    </tr>\n",
       "    <tr>\n",
       "      <th>3</th>\n",
       "      <td>Nurses union calls on CDC to reinstate univers...</td>\n",
       "      <td>True</td>\n",
       "    </tr>\n",
       "    <tr>\n",
       "      <th>4</th>\n",
       "      <td>Sirf  #MukeshAmbani  Company &amp;amp; it's Worker...</td>\n",
       "      <td>False</td>\n",
       "    </tr>\n",
       "  </tbody>\n",
       "</table>\n",
       "</div>"
      ],
      "text/plain": [
       "                                                text  label\n",
       "0  Federal Judge Rules Against CDC, Throws Out Cr...  False\n",
       "1  Indeed. Even in the dysfunctional US health sy...  False\n",
       "2  a vaccine seems to be ESSENTIAL if we are to s...  False\n",
       "3  Nurses union calls on CDC to reinstate univers...   True\n",
       "4  Sirf  #MukeshAmbani  Company &amp; it's Worker...  False"
      ]
     },
     "execution_count": 255,
     "metadata": {},
     "output_type": "execute_result"
    }
   ],
   "source": [
    "df_mask.head()"
   ]
  },
  {
   "cell_type": "code",
   "execution_count": 256,
   "metadata": {},
   "outputs": [],
   "source": [
    "df_mask.to_csv(\"twitter_topic_masking_and_distancing.csv\")"
   ]
  },
  {
   "cell_type": "markdown",
   "metadata": {},
   "source": [
    "### Vaccination"
   ]
  },
  {
   "cell_type": "code",
   "execution_count": 250,
   "metadata": {},
   "outputs": [],
   "source": [
    "df_vaccination = df_0_vaccination[['text', 'label']]\n",
    "df_vaccination = df_vaccination.append(df_1_vaccination[['text','label']], ignore_index = True)\n",
    "df_vaccination = df_vaccination.append(df_2_vaccination[['text','label']], ignore_index = True)\n",
    "df_vaccination = df_vaccination.append(df_3_vaccination[['text','label']], ignore_index = True)\n",
    "df_vaccination = df_vaccination.append(df_4_vaccination[['text','label']], ignore_index = True)"
   ]
  },
  {
   "cell_type": "code",
   "execution_count": 258,
   "metadata": {
    "scrolled": true
   },
   "outputs": [
    {
     "data": {
      "text/html": [
       "<div>\n",
       "<style scoped>\n",
       "    .dataframe tbody tr th:only-of-type {\n",
       "        vertical-align: middle;\n",
       "    }\n",
       "\n",
       "    .dataframe tbody tr th {\n",
       "        vertical-align: top;\n",
       "    }\n",
       "\n",
       "    .dataframe thead th {\n",
       "        text-align: right;\n",
       "    }\n",
       "</style>\n",
       "<table border=\"1\" class=\"dataframe\">\n",
       "  <thead>\n",
       "    <tr style=\"text-align: right;\">\n",
       "      <th></th>\n",
       "      <th>text</th>\n",
       "      <th>label</th>\n",
       "    </tr>\n",
       "  </thead>\n",
       "  <tbody>\n",
       "    <tr>\n",
       "      <th>0</th>\n",
       "      <td>Federal Judge Rules Against CDC, Throws Out Cr...</td>\n",
       "      <td>False</td>\n",
       "    </tr>\n",
       "    <tr>\n",
       "      <th>1</th>\n",
       "      <td>Indeed. Even in the dysfunctional US health sy...</td>\n",
       "      <td>True</td>\n",
       "    </tr>\n",
       "    <tr>\n",
       "      <th>2</th>\n",
       "      <td>a vaccine seems to be ESSENTIAL if we are to s...</td>\n",
       "      <td>True</td>\n",
       "    </tr>\n",
       "    <tr>\n",
       "      <th>3</th>\n",
       "      <td>Nurses union calls on CDC to reinstate univers...</td>\n",
       "      <td>False</td>\n",
       "    </tr>\n",
       "    <tr>\n",
       "      <th>4</th>\n",
       "      <td>Sirf  #MukeshAmbani  Company &amp;amp; it's Worker...</td>\n",
       "      <td>False</td>\n",
       "    </tr>\n",
       "  </tbody>\n",
       "</table>\n",
       "</div>"
      ],
      "text/plain": [
       "                                                text  label\n",
       "0  Federal Judge Rules Against CDC, Throws Out Cr...  False\n",
       "1  Indeed. Even in the dysfunctional US health sy...   True\n",
       "2  a vaccine seems to be ESSENTIAL if we are to s...   True\n",
       "3  Nurses union calls on CDC to reinstate univers...  False\n",
       "4  Sirf  #MukeshAmbani  Company &amp; it's Worker...  False"
      ]
     },
     "execution_count": 258,
     "metadata": {},
     "output_type": "execute_result"
    }
   ],
   "source": [
    "df_vaccination.head()"
   ]
  },
  {
   "cell_type": "code",
   "execution_count": 259,
   "metadata": {},
   "outputs": [],
   "source": [
    "df_vaccination.to_csv(\"twitter_topic_vaccination.csv\")"
   ]
  },
  {
   "cell_type": "markdown",
   "metadata": {},
   "source": [
    "# Secondary Sets\n",
    "### Do the same procedure for kappa's and labeling"
   ]
  },
  {
   "cell_type": "markdown",
   "metadata": {},
   "source": [
    "# Dataset 0"
   ]
  },
  {
   "cell_type": "code",
   "execution_count": 193,
   "metadata": {},
   "outputs": [],
   "source": [
    "df_0 = pd.read_csv('changeorg_topic_0.csv')"
   ]
  },
  {
   "cell_type": "code",
   "execution_count": 194,
   "metadata": {},
   "outputs": [],
   "source": [
    "df_0.fillna('missing', inplace=True)"
   ]
  },
  {
   "cell_type": "code",
   "execution_count": 195,
   "metadata": {},
   "outputs": [],
   "source": [
    "df_0_lockdown = pd.read_csv('twitter_topic_0_lockdowns.csv')"
   ]
  },
  {
   "cell_type": "code",
   "execution_count": 196,
   "metadata": {},
   "outputs": [],
   "source": [
    "df_0_mask = pd.read_csv('twitter_topic_0_masking_and_distancing.csv')"
   ]
  },
  {
   "cell_type": "code",
   "execution_count": 197,
   "metadata": {},
   "outputs": [],
   "source": [
    "df_0_vaccination = pd.read_csv('twitter_topic_0_vaccination.csv')"
   ]
  },
  {
   "cell_type": "code",
   "execution_count": 198,
   "metadata": {},
   "outputs": [],
   "source": [
    "#df_0.head()"
   ]
  },
  {
   "cell_type": "markdown",
   "metadata": {},
   "source": [
    "# Dataset 1"
   ]
  },
  {
   "cell_type": "code",
   "execution_count": 199,
   "metadata": {},
   "outputs": [],
   "source": [
    "df_1 = pd.read_csv('twitter_topic_1.csv')"
   ]
  },
  {
   "cell_type": "code",
   "execution_count": 200,
   "metadata": {},
   "outputs": [],
   "source": [
    "df_1.fillna('missing', inplace=True)"
   ]
  },
  {
   "cell_type": "code",
   "execution_count": 201,
   "metadata": {},
   "outputs": [],
   "source": [
    "df_1_lockdown = pd.read_csv('twitter_topic_1_lockdowns.csv')"
   ]
  },
  {
   "cell_type": "code",
   "execution_count": 202,
   "metadata": {},
   "outputs": [],
   "source": [
    "df_1_mask = pd.read_csv('twitter_topic_1_masking_and_distancing.csv')"
   ]
  },
  {
   "cell_type": "code",
   "execution_count": 203,
   "metadata": {},
   "outputs": [],
   "source": [
    "df_1_vaccination = pd.read_csv('twitter_topic_1_vaccination.csv')"
   ]
  },
  {
   "cell_type": "code",
   "execution_count": 204,
   "metadata": {},
   "outputs": [],
   "source": [
    "#df_1.head()"
   ]
  },
  {
   "cell_type": "markdown",
   "metadata": {},
   "source": [
    "# Dataset 2"
   ]
  },
  {
   "cell_type": "code",
   "execution_count": 205,
   "metadata": {},
   "outputs": [],
   "source": [
    "df_2 = pd.read_csv('twitter_topic_2.csv')"
   ]
  },
  {
   "cell_type": "code",
   "execution_count": 206,
   "metadata": {},
   "outputs": [],
   "source": [
    "df_2.fillna('missing', inplace=True)"
   ]
  },
  {
   "cell_type": "code",
   "execution_count": 207,
   "metadata": {},
   "outputs": [],
   "source": [
    "df_2_lockdown = pd.read_csv('twitter_topic_2_lockdowns.csv')"
   ]
  },
  {
   "cell_type": "code",
   "execution_count": 208,
   "metadata": {},
   "outputs": [],
   "source": [
    "df_2_mask = pd.read_csv('twitter_topic_2_masking_and_distancing.csv')"
   ]
  },
  {
   "cell_type": "code",
   "execution_count": 209,
   "metadata": {},
   "outputs": [],
   "source": [
    "df_2_vaccination = pd.read_csv('twitter_topic_2_vaccination.csv')"
   ]
  },
  {
   "cell_type": "code",
   "execution_count": 210,
   "metadata": {},
   "outputs": [],
   "source": [
    "#df_2.head()"
   ]
  },
  {
   "cell_type": "markdown",
   "metadata": {},
   "source": [
    "# Dataset 3"
   ]
  },
  {
   "cell_type": "code",
   "execution_count": 211,
   "metadata": {},
   "outputs": [],
   "source": [
    "df_3 = pd.read_csv('twitter_topic_3.csv')"
   ]
  },
  {
   "cell_type": "code",
   "execution_count": 212,
   "metadata": {},
   "outputs": [],
   "source": [
    "df_3.fillna('missing', inplace=True)"
   ]
  },
  {
   "cell_type": "code",
   "execution_count": 213,
   "metadata": {},
   "outputs": [],
   "source": [
    "df_3_lockdown = pd.read_csv('twitter_topic_3_lockdowns.csv')"
   ]
  },
  {
   "cell_type": "code",
   "execution_count": 214,
   "metadata": {},
   "outputs": [],
   "source": [
    "df_3_mask = pd.read_csv('twitter_topic_3_masking_and_distancing.csv')"
   ]
  },
  {
   "cell_type": "code",
   "execution_count": 215,
   "metadata": {},
   "outputs": [],
   "source": [
    "df_3_vaccination = pd.read_csv('twitter_topic_3_vaccination.csv')"
   ]
  },
  {
   "cell_type": "code",
   "execution_count": 216,
   "metadata": {},
   "outputs": [],
   "source": [
    "#df_3.head()"
   ]
  },
  {
   "cell_type": "markdown",
   "metadata": {},
   "source": [
    "# Dataset 4"
   ]
  },
  {
   "cell_type": "code",
   "execution_count": 217,
   "metadata": {},
   "outputs": [],
   "source": [
    "df_4 = pd.read_csv('twitter_topic_4.csv')"
   ]
  },
  {
   "cell_type": "code",
   "execution_count": 218,
   "metadata": {},
   "outputs": [],
   "source": [
    "df_4.fillna('missing', inplace=True)"
   ]
  },
  {
   "cell_type": "code",
   "execution_count": 219,
   "metadata": {},
   "outputs": [],
   "source": [
    "df_4_lockdown = pd.read_csv('twitter_topic_4_lockdowns.csv')"
   ]
  },
  {
   "cell_type": "code",
   "execution_count": 220,
   "metadata": {},
   "outputs": [],
   "source": [
    "df_4_mask = pd.read_csv('twitter_topic_4_masking_and_distancing.csv')"
   ]
  },
  {
   "cell_type": "code",
   "execution_count": 221,
   "metadata": {},
   "outputs": [],
   "source": [
    "df_4_vaccination = pd.read_csv('twitter_topic_4_vaccination.csv')"
   ]
  },
  {
   "cell_type": "code",
   "execution_count": 222,
   "metadata": {},
   "outputs": [],
   "source": [
    "#df_4.head()"
   ]
  },
  {
   "cell_type": "markdown",
   "metadata": {},
   "source": [
    "## Finding Kappa"
   ]
  },
  {
   "cell_type": "code",
   "execution_count": 223,
   "metadata": {},
   "outputs": [],
   "source": [
    "df_cur = df_4\n",
    "\n",
    "kappa_1 = (sklearn.metrics.cohen_kappa_score(df_cur.iloc[:, 1], df_cur.iloc[:, 2], \n",
    "                                             labels=None, weights=None, \n",
    "                                             sample_weight=None)\n",
    "          + sklearn.metrics.cohen_kappa_score(df_cur.iloc[:, 1], df_cur.iloc[:, 3], \n",
    "                                             labels=None, weights=None, \n",
    "                                             sample_weight=None)\n",
    "          +sklearn.metrics.cohen_kappa_score(df_cur.iloc[:, 1], df_cur.iloc[:, 4], \n",
    "                                             labels=None, weights=None, \n",
    "                                             sample_weight=None))/3\n",
    "\n",
    "kappa_2 = (sklearn.metrics.cohen_kappa_score(df_cur.iloc[:, 2], df_cur.iloc[:, 1], \n",
    "                                             labels=None, weights=None, \n",
    "                                             sample_weight=None)\n",
    "          + sklearn.metrics.cohen_kappa_score(df_cur.iloc[:, 2], df_cur.iloc[:, 3], \n",
    "                                             labels=None, weights=None, \n",
    "                                             sample_weight=None)\n",
    "          +sklearn.metrics.cohen_kappa_score(df_cur.iloc[:, 2], df_cur.iloc[:, 4], \n",
    "                                             labels=None, weights=None, \n",
    "                                             sample_weight=None))/3\n",
    "\n",
    "kappa_3 = (sklearn.metrics.cohen_kappa_score(df_cur.iloc[:, 3], df_cur.iloc[:, 1], \n",
    "                                             labels=None, weights=None, \n",
    "                                             sample_weight=None)\n",
    "          + sklearn.metrics.cohen_kappa_score(df_cur.iloc[:, 3], df_cur.iloc[:, 2], \n",
    "                                             labels=None, weights=None, \n",
    "                                             sample_weight=None)\n",
    "          +sklearn.metrics.cohen_kappa_score(df_cur.iloc[:, 3], df_cur.iloc[:, 4], \n",
    "                                             labels=None, weights=None, \n",
    "                                             sample_weight=None))/3\n",
    "\n",
    "kappa_4 = (sklearn.metrics.cohen_kappa_score(df_cur.iloc[:, 4], df_cur.iloc[:, 1], \n",
    "                                             labels=None, weights=None, \n",
    "                                             sample_weight=None)\n",
    "          + sklearn.metrics.cohen_kappa_score(df_cur.iloc[:, 4], df_0.iloc[:, 2], \n",
    "                                             labels=None, weights=None, \n",
    "                                             sample_weight=None)\n",
    "          +sklearn.metrics.cohen_kappa_score(df_cur.iloc[:, 4], df_cur.iloc[:, 3], \n",
    "                                             labels=None, weights=None, \n",
    "                                             sample_weight=None))/3"
   ]
  },
  {
   "cell_type": "code",
   "execution_count": 224,
   "metadata": {
    "scrolled": true
   },
   "outputs": [
    {
     "name": "stdout",
     "output_type": "stream",
     "text": [
      "kappa 1: 0.42244638903616977\n",
      "kappa 2: 0.4058658207123191\n",
      "kappa 3: 0.45586627942410124\n",
      "kappa 4: 0.3533498513688584\n"
     ]
    }
   ],
   "source": [
    "print('kappa 1:', kappa_1)\n",
    "print('kappa 2:', kappa_2)\n",
    "print('kappa 3:', kappa_3)\n",
    "print('kappa 4:', kappa_4)"
   ]
  },
  {
   "cell_type": "markdown",
   "metadata": {},
   "source": [
    "# Annotators, kappa's\n",
    "\n",
    "## df_0: \n",
    "### 4 Annotators, keep all.\n",
    "\n",
    "kappa 56: 0.37449258477361463\n",
    "\n",
    "kappa 57: 0.4628485822445733\n",
    "\n",
    "kappa 58: 0.36724433436200576\n",
    "\n",
    "kappa 59: 0.48572536773342634\n",
    "\n",
    "\n",
    "## df_1\n",
    "### 4 Annotators, keep all.\n",
    "\n",
    "kappa 91: 0.6210232245439785\n",
    "\n",
    "kappa 85: 0.5957329504706256\n",
    "\n",
    "kappa 86: 0.5975649954411598\n",
    "\n",
    "kappa 87: 0.38390911860685667 \n",
    "\n",
    "\n",
    "## df_2\n",
    "### 4 Annotators, keep all.\n",
    "\n",
    "kappa 51: 0.4724964451243631\n",
    "\n",
    "kappa 52: 0.34995673694855817\n",
    "\n",
    "kappa 53: 0.4956326545021735\n",
    "\n",
    "kappa 54: 0.37251496342922535\n",
    "\n",
    "## df_3\n",
    "### 4 Annotators, keep all.\n",
    "\n",
    "kappa 104: 0.44315735995110944\n",
    "\n",
    "kappa 101: 0.65511568783928\n",
    "\n",
    "kappa 102: 0.569458591203231\n",
    "\n",
    "kappa 103: 0.3508589039050169\n",
    "\n",
    "## df_4\n",
    "### 4 Annotators, keep all.\n",
    "\n",
    "kappa 72: 0.44315735995110944\n",
    "kappa 74: 0.65511568783928\n",
    "kappa 76: 0.569458591203231\n",
    "kappa 71: 0.3508589039050169\n",
    "\n"
   ]
  },
  {
   "cell_type": "markdown",
   "metadata": {},
   "source": [
    "# Labeling The Datasets\n",
    "### Do it for each dataset"
   ]
  },
  {
   "cell_type": "code",
   "execution_count": 237,
   "metadata": {},
   "outputs": [],
   "source": [
    "df_cur = df_4_lockdown\n",
    "df_cur['label'] = None\n",
    "\n",
    "for i in range(len(df_cur)):\n",
    "    label_true = 0\n",
    "    label_false = 0\n",
    "    \n",
    "    for col in df_cur.loc[i][1:]:\n",
    "        if col:\n",
    "            label_true+=1\n",
    "        else:\n",
    "            label_false+=1\n",
    "    \n",
    "    if label_true > label_false:\n",
    "        df_cur.iloc[i, 5] = True\n",
    "    elif label_true < label_false:\n",
    "        df_cur.iloc[i, 5] = False\n",
    "    else: #labels are same\n",
    "        kappa_scores = 0\n",
    "        kappa_scores += kappa_1 if df_cur.loc[i][1] else -kappa_1\n",
    "        kappa_scores += kappa_2 if df_cur.loc[i][1] else -kappa_2\n",
    "        kappa_scores += kappa_3 if df_cur.loc[i][1] else -kappa_3\n",
    "        kappa_scores += kappa_4 if df_cur.loc[i][1] else -kappa_4\n",
    "\n",
    "        df_cur.iloc[i, 5] = True if kappa_scores>=0 else False\n",
    "        \n",
    "df_4_lockdown = df_cur"
   ]
  },
  {
   "cell_type": "code",
   "execution_count": 238,
   "metadata": {},
   "outputs": [],
   "source": [
    "df_cur = df_4_mask\n",
    "df_cur['label'] = None\n",
    "\n",
    "for i in range(len(df_cur)):\n",
    "    label_true = 0\n",
    "    label_false = 0\n",
    "    \n",
    "    for col in df_cur.loc[i][1:]:\n",
    "        if col:\n",
    "            label_true+=1\n",
    "        else:\n",
    "            label_false+=1\n",
    "    \n",
    "    if label_true > label_false:\n",
    "        df_cur.iloc[i, 5] = True\n",
    "    elif label_true < label_false:\n",
    "        df_cur.iloc[i, 5] = False\n",
    "    else: #labels are same\n",
    "        kappa_scores = 0\n",
    "        kappa_scores += kappa_1 if df_cur.loc[i][1] else -kappa_1\n",
    "        kappa_scores += kappa_2 if df_cur.loc[i][1] else -kappa_2\n",
    "        kappa_scores += kappa_3 if df_cur.loc[i][1] else -kappa_3\n",
    "        kappa_scores += kappa_4 if df_cur.loc[i][1] else -kappa_4\n",
    "\n",
    "        df_cur.iloc[i, 5] = True if kappa_scores>=0 else False\n",
    "        \n",
    "df_4_mask = df_cur"
   ]
  },
  {
   "cell_type": "code",
   "execution_count": 239,
   "metadata": {},
   "outputs": [],
   "source": [
    "df_cur = df_4_vaccination\n",
    "df_cur['label'] = None\n",
    "\n",
    "for i in range(len(df_cur)):\n",
    "    label_true = 0\n",
    "    label_false = 0\n",
    "    \n",
    "    for col in df_cur.loc[i][1:]:\n",
    "        if col:\n",
    "            label_true+=1\n",
    "        else:\n",
    "            label_false+=1\n",
    "    \n",
    "    if label_true > label_false:\n",
    "        df_cur.iloc[i, 5] = True\n",
    "    elif label_true < label_false:\n",
    "        df_cur.iloc[i, 5] = False\n",
    "    else: #labels are same\n",
    "        kappa_scores = 0\n",
    "        kappa_scores += kappa_1 if df_cur.loc[i][1] else -kappa_1\n",
    "        kappa_scores += kappa_2 if df_cur.loc[i][1] else -kappa_2\n",
    "        kappa_scores += kappa_3 if df_cur.loc[i][1] else -kappa_3\n",
    "        kappa_scores += kappa_4 if df_cur.loc[i][1] else -kappa_4\n",
    "\n",
    "        df_cur.iloc[i, 5] = True if kappa_scores>=0 else False\n",
    "        \n",
    "df_4_vaccination = df_cur"
   ]
  },
  {
   "cell_type": "markdown",
   "metadata": {},
   "source": [
    "# Combine Datasets\n",
    "### Combine each label type to itself"
   ]
  },
  {
   "cell_type": "markdown",
   "metadata": {},
   "source": [
    "### Lockdown"
   ]
  },
  {
   "cell_type": "code",
   "execution_count": 242,
   "metadata": {},
   "outputs": [],
   "source": [
    "df_lockdown = df_0_lockdown[['text', 'label']]\n",
    "df_lockdown = df_lockdown.append(df_1_lockdown[['text','label']], ignore_index = True)\n",
    "df_lockdown = df_lockdown.append(df_2_lockdown[['text','label']], ignore_index = True)\n",
    "df_lockdown = df_lockdown.append(df_3_lockdown[['text','label']], ignore_index = True)\n",
    "df_lockdown = df_lockdown.append(df_4_lockdown[['text','label']], ignore_index = True)"
   ]
  },
  {
   "cell_type": "code",
   "execution_count": 254,
   "metadata": {},
   "outputs": [
    {
     "data": {
      "text/html": [
       "<div>\n",
       "<style scoped>\n",
       "    .dataframe tbody tr th:only-of-type {\n",
       "        vertical-align: middle;\n",
       "    }\n",
       "\n",
       "    .dataframe tbody tr th {\n",
       "        vertical-align: top;\n",
       "    }\n",
       "\n",
       "    .dataframe thead th {\n",
       "        text-align: right;\n",
       "    }\n",
       "</style>\n",
       "<table border=\"1\" class=\"dataframe\">\n",
       "  <thead>\n",
       "    <tr style=\"text-align: right;\">\n",
       "      <th></th>\n",
       "      <th>text</th>\n",
       "      <th>label</th>\n",
       "    </tr>\n",
       "  </thead>\n",
       "  <tbody>\n",
       "    <tr>\n",
       "      <th>0</th>\n",
       "      <td>Federal Judge Rules Against CDC, Throws Out Cr...</td>\n",
       "      <td>False</td>\n",
       "    </tr>\n",
       "    <tr>\n",
       "      <th>1</th>\n",
       "      <td>Indeed. Even in the dysfunctional US health sy...</td>\n",
       "      <td>False</td>\n",
       "    </tr>\n",
       "    <tr>\n",
       "      <th>2</th>\n",
       "      <td>a vaccine seems to be ESSENTIAL if we are to s...</td>\n",
       "      <td>False</td>\n",
       "    </tr>\n",
       "    <tr>\n",
       "      <th>3</th>\n",
       "      <td>Nurses union calls on CDC to reinstate univers...</td>\n",
       "      <td>False</td>\n",
       "    </tr>\n",
       "    <tr>\n",
       "      <th>4</th>\n",
       "      <td>Sirf  #MukeshAmbani  Company &amp;amp; it's Worker...</td>\n",
       "      <td>False</td>\n",
       "    </tr>\n",
       "    <tr>\n",
       "      <th>...</th>\n",
       "      <td>...</td>\n",
       "      <td>...</td>\n",
       "    </tr>\n",
       "    <tr>\n",
       "      <th>1495</th>\n",
       "      <td>Dr Reddy's Laboratories and Russian Direct Inv...</td>\n",
       "      <td>False</td>\n",
       "    </tr>\n",
       "    <tr>\n",
       "      <th>1496</th>\n",
       "      <td>\"#Covishield will be commercialised once the t...</td>\n",
       "      <td>False</td>\n",
       "    </tr>\n",
       "    <tr>\n",
       "      <th>1497</th>\n",
       "      <td>I am not, last lockdown here on RI was a compl...</td>\n",
       "      <td>False</td>\n",
       "    </tr>\n",
       "    <tr>\n",
       "      <th>1498</th>\n",
       "      <td>https://t.co/vuf52eSRgq  Why this warning or ...</td>\n",
       "      <td>False</td>\n",
       "    </tr>\n",
       "    <tr>\n",
       "      <th>1499</th>\n",
       "      <td>Opioid Prescribing Practices After the 2016 Re...</td>\n",
       "      <td>False</td>\n",
       "    </tr>\n",
       "  </tbody>\n",
       "</table>\n",
       "<p>1500 rows × 2 columns</p>\n",
       "</div>"
      ],
      "text/plain": [
       "                                                   text  label\n",
       "0     Federal Judge Rules Against CDC, Throws Out Cr...  False\n",
       "1     Indeed. Even in the dysfunctional US health sy...  False\n",
       "2     a vaccine seems to be ESSENTIAL if we are to s...  False\n",
       "3     Nurses union calls on CDC to reinstate univers...  False\n",
       "4     Sirf  #MukeshAmbani  Company &amp; it's Worker...  False\n",
       "...                                                 ...    ...\n",
       "1495  Dr Reddy's Laboratories and Russian Direct Inv...  False\n",
       "1496  \"#Covishield will be commercialised once the t...  False\n",
       "1497  I am not, last lockdown here on RI was a compl...  False\n",
       "1498   https://t.co/vuf52eSRgq  Why this warning or ...  False\n",
       "1499  Opioid Prescribing Practices After the 2016 Re...  False\n",
       "\n",
       "[1500 rows x 2 columns]"
      ]
     },
     "execution_count": 254,
     "metadata": {},
     "output_type": "execute_result"
    }
   ],
   "source": [
    "df_lockdown.head()"
   ]
  },
  {
   "cell_type": "code",
   "execution_count": 253,
   "metadata": {},
   "outputs": [],
   "source": [
    "df_lockdown.to_csv(\"twitter_topic_lockdown.csv\")"
   ]
  },
  {
   "cell_type": "markdown",
   "metadata": {},
   "source": [
    "### Masking and Distancing"
   ]
  },
  {
   "cell_type": "code",
   "execution_count": 246,
   "metadata": {},
   "outputs": [],
   "source": [
    "df_mask = df_0_mask[['text', 'label']]\n",
    "df_mask = df_mask.append(df_1_mask[['text','label']], ignore_index = True)\n",
    "df_mask = df_mask.append(df_2_mask[['text','label']], ignore_index = True)\n",
    "df_mask = df_mask.append(df_3_mask[['text','label']], ignore_index = True)\n",
    "df_mask = df_mask.append(df_4_mask[['text','label']], ignore_index = True)\n"
   ]
  },
  {
   "cell_type": "code",
   "execution_count": 255,
   "metadata": {},
   "outputs": [
    {
     "data": {
      "text/html": [
       "<div>\n",
       "<style scoped>\n",
       "    .dataframe tbody tr th:only-of-type {\n",
       "        vertical-align: middle;\n",
       "    }\n",
       "\n",
       "    .dataframe tbody tr th {\n",
       "        vertical-align: top;\n",
       "    }\n",
       "\n",
       "    .dataframe thead th {\n",
       "        text-align: right;\n",
       "    }\n",
       "</style>\n",
       "<table border=\"1\" class=\"dataframe\">\n",
       "  <thead>\n",
       "    <tr style=\"text-align: right;\">\n",
       "      <th></th>\n",
       "      <th>text</th>\n",
       "      <th>label</th>\n",
       "    </tr>\n",
       "  </thead>\n",
       "  <tbody>\n",
       "    <tr>\n",
       "      <th>0</th>\n",
       "      <td>Federal Judge Rules Against CDC, Throws Out Cr...</td>\n",
       "      <td>False</td>\n",
       "    </tr>\n",
       "    <tr>\n",
       "      <th>1</th>\n",
       "      <td>Indeed. Even in the dysfunctional US health sy...</td>\n",
       "      <td>False</td>\n",
       "    </tr>\n",
       "    <tr>\n",
       "      <th>2</th>\n",
       "      <td>a vaccine seems to be ESSENTIAL if we are to s...</td>\n",
       "      <td>False</td>\n",
       "    </tr>\n",
       "    <tr>\n",
       "      <th>3</th>\n",
       "      <td>Nurses union calls on CDC to reinstate univers...</td>\n",
       "      <td>True</td>\n",
       "    </tr>\n",
       "    <tr>\n",
       "      <th>4</th>\n",
       "      <td>Sirf  #MukeshAmbani  Company &amp;amp; it's Worker...</td>\n",
       "      <td>False</td>\n",
       "    </tr>\n",
       "  </tbody>\n",
       "</table>\n",
       "</div>"
      ],
      "text/plain": [
       "                                                text  label\n",
       "0  Federal Judge Rules Against CDC, Throws Out Cr...  False\n",
       "1  Indeed. Even in the dysfunctional US health sy...  False\n",
       "2  a vaccine seems to be ESSENTIAL if we are to s...  False\n",
       "3  Nurses union calls on CDC to reinstate univers...   True\n",
       "4  Sirf  #MukeshAmbani  Company &amp; it's Worker...  False"
      ]
     },
     "execution_count": 255,
     "metadata": {},
     "output_type": "execute_result"
    }
   ],
   "source": [
    "df_mask.head()"
   ]
  },
  {
   "cell_type": "code",
   "execution_count": 256,
   "metadata": {},
   "outputs": [],
   "source": [
    "df_mask.to_csv(\"twitter_topic_masking_and_distancing.csv\")"
   ]
  },
  {
   "cell_type": "markdown",
   "metadata": {},
   "source": [
    "### Vaccination"
   ]
  },
  {
   "cell_type": "code",
   "execution_count": 250,
   "metadata": {},
   "outputs": [],
   "source": [
    "df_vaccination = df_0_vaccination[['text', 'label']]\n",
    "df_vaccination = df_vaccination.append(df_1_vaccination[['text','label']], ignore_index = True)\n",
    "df_vaccination = df_vaccination.append(df_2_vaccination[['text','label']], ignore_index = True)\n",
    "df_vaccination = df_vaccination.append(df_3_vaccination[['text','label']], ignore_index = True)\n",
    "df_vaccination = df_vaccination.append(df_4_vaccination[['text','label']], ignore_index = True)"
   ]
  },
  {
   "cell_type": "code",
   "execution_count": 258,
   "metadata": {
    "scrolled": true
   },
   "outputs": [
    {
     "data": {
      "text/html": [
       "<div>\n",
       "<style scoped>\n",
       "    .dataframe tbody tr th:only-of-type {\n",
       "        vertical-align: middle;\n",
       "    }\n",
       "\n",
       "    .dataframe tbody tr th {\n",
       "        vertical-align: top;\n",
       "    }\n",
       "\n",
       "    .dataframe thead th {\n",
       "        text-align: right;\n",
       "    }\n",
       "</style>\n",
       "<table border=\"1\" class=\"dataframe\">\n",
       "  <thead>\n",
       "    <tr style=\"text-align: right;\">\n",
       "      <th></th>\n",
       "      <th>text</th>\n",
       "      <th>label</th>\n",
       "    </tr>\n",
       "  </thead>\n",
       "  <tbody>\n",
       "    <tr>\n",
       "      <th>0</th>\n",
       "      <td>Federal Judge Rules Against CDC, Throws Out Cr...</td>\n",
       "      <td>False</td>\n",
       "    </tr>\n",
       "    <tr>\n",
       "      <th>1</th>\n",
       "      <td>Indeed. Even in the dysfunctional US health sy...</td>\n",
       "      <td>True</td>\n",
       "    </tr>\n",
       "    <tr>\n",
       "      <th>2</th>\n",
       "      <td>a vaccine seems to be ESSENTIAL if we are to s...</td>\n",
       "      <td>True</td>\n",
       "    </tr>\n",
       "    <tr>\n",
       "      <th>3</th>\n",
       "      <td>Nurses union calls on CDC to reinstate univers...</td>\n",
       "      <td>False</td>\n",
       "    </tr>\n",
       "    <tr>\n",
       "      <th>4</th>\n",
       "      <td>Sirf  #MukeshAmbani  Company &amp;amp; it's Worker...</td>\n",
       "      <td>False</td>\n",
       "    </tr>\n",
       "  </tbody>\n",
       "</table>\n",
       "</div>"
      ],
      "text/plain": [
       "                                                text  label\n",
       "0  Federal Judge Rules Against CDC, Throws Out Cr...  False\n",
       "1  Indeed. Even in the dysfunctional US health sy...   True\n",
       "2  a vaccine seems to be ESSENTIAL if we are to s...   True\n",
       "3  Nurses union calls on CDC to reinstate univers...  False\n",
       "4  Sirf  #MukeshAmbani  Company &amp; it's Worker...  False"
      ]
     },
     "execution_count": 258,
     "metadata": {},
     "output_type": "execute_result"
    }
   ],
   "source": [
    "df_vaccination.head()"
   ]
  },
  {
   "cell_type": "code",
   "execution_count": 259,
   "metadata": {},
   "outputs": [],
   "source": [
    "df_vaccination.to_csv(\"twitter_topic_vaccination.csv\")"
   ]
  }
 ],
 "metadata": {
  "kernelspec": {
   "display_name": "Python 3",
   "language": "python",
   "name": "python3"
  },
  "language_info": {
   "codemirror_mode": {
    "name": "ipython",
    "version": 3
   },
   "file_extension": ".py",
   "mimetype": "text/x-python",
   "name": "python",
   "nbconvert_exporter": "python",
   "pygments_lexer": "ipython3",
   "version": "3.8.3"
  }
 },
 "nbformat": 4,
 "nbformat_minor": 4
}
