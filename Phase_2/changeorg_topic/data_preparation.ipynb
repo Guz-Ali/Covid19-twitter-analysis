{
 "cells": [
  {
   "cell_type": "code",
   "execution_count": 42,
   "metadata": {},
   "outputs": [],
   "source": [
    "\"\"\"\n",
    "Use the csv files created by the code, and put the final label for each text on each\n",
    "lockdown, mask, and vaccination file for each dataset.\n",
    "\"\"\"\n",
    "import pandas as pd\n",
    "import sklearn\n",
    "from sklearn import metrics"
   ]
  },
  {
   "cell_type": "markdown",
   "metadata": {},
   "source": [
    "# Primary Sets"
   ]
  },
  {
   "cell_type": "markdown",
   "metadata": {},
   "source": [
    "# Dataset 0"
   ]
  },
  {
   "cell_type": "code",
   "execution_count": 193,
   "metadata": {},
   "outputs": [],
   "source": [
    "df_0 = pd.read_csv('twitter_topic_0.csv')"
   ]
  },
  {
   "cell_type": "code",
   "execution_count": 194,
   "metadata": {},
   "outputs": [],
   "source": [
    "df_0.fillna('missing', inplace=True)"
   ]
  },
  {
   "cell_type": "code",
   "execution_count": 195,
   "metadata": {},
   "outputs": [],
   "source": [
    "df_0_lockdown = pd.read_csv('twitter_topic_0_lockdowns.csv')"
   ]
  },
  {
   "cell_type": "code",
   "execution_count": 196,
   "metadata": {},
   "outputs": [],
   "source": [
    "df_0_mask = pd.read_csv('twitter_topic_0_masking_and_distancing.csv')"
   ]
  },
  {
   "cell_type": "code",
   "execution_count": 197,
   "metadata": {},
   "outputs": [],
   "source": [
    "df_0_vaccination = pd.read_csv('twitter_topic_0_vaccination.csv')"
   ]
  },
  {
   "cell_type": "code",
   "execution_count": 198,
   "metadata": {},
   "outputs": [],
   "source": [
    "#df_0.head()"
   ]
  },
  {
   "cell_type": "markdown",
   "metadata": {},
   "source": [
    "# Dataset 1"
   ]
  },
  {
   "cell_type": "code",
   "execution_count": 199,
   "metadata": {},
   "outputs": [],
   "source": [
    "df_1 = pd.read_csv('twitter_topic_1.csv')"
   ]
  },
  {
   "cell_type": "code",
   "execution_count": 200,
   "metadata": {},
   "outputs": [],
   "source": [
    "df_1.fillna('missing', inplace=True)"
   ]
  },
  {
   "cell_type": "code",
   "execution_count": 201,
   "metadata": {},
   "outputs": [],
   "source": [
    "df_1_lockdown = pd.read_csv('twitter_topic_1_lockdowns.csv')"
   ]
  },
  {
   "cell_type": "code",
   "execution_count": 202,
   "metadata": {},
   "outputs": [],
   "source": [
    "df_1_mask = pd.read_csv('twitter_topic_1_masking_and_distancing.csv')"
   ]
  },
  {
   "cell_type": "code",
   "execution_count": 203,
   "metadata": {},
   "outputs": [],
   "source": [
    "df_1_vaccination = pd.read_csv('twitter_topic_1_vaccination.csv')"
   ]
  },
  {
   "cell_type": "code",
   "execution_count": 204,
   "metadata": {},
   "outputs": [],
   "source": [
    "#df_1.head()"
   ]
  },
  {
   "cell_type": "markdown",
   "metadata": {},
   "source": [
    "# Dataset 2"
   ]
  },
  {
   "cell_type": "code",
   "execution_count": 205,
   "metadata": {},
   "outputs": [],
   "source": [
    "df_2 = pd.read_csv('twitter_topic_2.csv')"
   ]
  },
  {
   "cell_type": "code",
   "execution_count": 206,
   "metadata": {},
   "outputs": [],
   "source": [
    "df_2.fillna('missing', inplace=True)"
   ]
  },
  {
   "cell_type": "code",
   "execution_count": 207,
   "metadata": {},
   "outputs": [],
   "source": [
    "df_2_lockdown = pd.read_csv('twitter_topic_2_lockdowns.csv')"
   ]
  },
  {
   "cell_type": "code",
   "execution_count": 208,
   "metadata": {},
   "outputs": [],
   "source": [
    "df_2_mask = pd.read_csv('twitter_topic_2_masking_and_distancing.csv')"
   ]
  },
  {
   "cell_type": "code",
   "execution_count": 209,
   "metadata": {},
   "outputs": [],
   "source": [
    "df_2_vaccination = pd.read_csv('twitter_topic_2_vaccination.csv')"
   ]
  },
  {
   "cell_type": "code",
   "execution_count": 210,
   "metadata": {},
   "outputs": [],
   "source": [
    "#df_2.head()"
   ]
  },
  {
   "cell_type": "markdown",
   "metadata": {},
   "source": [
    "# Dataset 3"
   ]
  },
  {
   "cell_type": "code",
   "execution_count": 211,
   "metadata": {},
   "outputs": [],
   "source": [
    "df_3 = pd.read_csv('twitter_topic_3.csv')"
   ]
  },
  {
   "cell_type": "code",
   "execution_count": 212,
   "metadata": {},
   "outputs": [],
   "source": [
    "df_3.fillna('missing', inplace=True)"
   ]
  },
  {
   "cell_type": "code",
   "execution_count": 213,
   "metadata": {},
   "outputs": [],
   "source": [
    "df_3_lockdown = pd.read_csv('twitter_topic_3_lockdowns.csv')"
   ]
  },
  {
   "cell_type": "code",
   "execution_count": 214,
   "metadata": {},
   "outputs": [],
   "source": [
    "df_3_mask = pd.read_csv('twitter_topic_3_masking_and_distancing.csv')"
   ]
  },
  {
   "cell_type": "code",
   "execution_count": 215,
   "metadata": {},
   "outputs": [],
   "source": [
    "df_3_vaccination = pd.read_csv('twitter_topic_3_vaccination.csv')"
   ]
  },
  {
   "cell_type": "code",
   "execution_count": 216,
   "metadata": {},
   "outputs": [],
   "source": [
    "#df_3.head()"
   ]
  },
  {
   "cell_type": "markdown",
   "metadata": {},
   "source": [
    "# Dataset 4"
   ]
  },
  {
   "cell_type": "code",
   "execution_count": 217,
   "metadata": {},
   "outputs": [],
   "source": [
    "df_4 = pd.read_csv('twitter_topic_4.csv')"
   ]
  },
  {
   "cell_type": "code",
   "execution_count": 218,
   "metadata": {},
   "outputs": [],
   "source": [
    "df_4.fillna('missing', inplace=True)"
   ]
  },
  {
   "cell_type": "code",
   "execution_count": 219,
   "metadata": {},
   "outputs": [],
   "source": [
    "df_4_lockdown = pd.read_csv('twitter_topic_4_lockdowns.csv')"
   ]
  },
  {
   "cell_type": "code",
   "execution_count": 220,
   "metadata": {},
   "outputs": [],
   "source": [
    "df_4_mask = pd.read_csv('twitter_topic_4_masking_and_distancing.csv')"
   ]
  },
  {
   "cell_type": "code",
   "execution_count": 221,
   "metadata": {},
   "outputs": [],
   "source": [
    "df_4_vaccination = pd.read_csv('twitter_topic_4_vaccination.csv')"
   ]
  },
  {
   "cell_type": "code",
   "execution_count": 222,
   "metadata": {},
   "outputs": [],
   "source": [
    "#df_4.head()"
   ]
  },
  {
   "cell_type": "markdown",
   "metadata": {},
   "source": [
    "## Finding Kappa"
   ]
  },
  {
   "cell_type": "code",
   "execution_count": 50,
   "metadata": {},
   "outputs": [],
   "source": [
    "df_cur = df_2\n",
    "\n",
    "kappa_1 = (sklearn.metrics.cohen_kappa_score(df_cur.iloc[:, 1], df_cur.iloc[:, 2], \n",
    "                                             labels=None, weights=None, \n",
    "                                             sample_weight=None)\n",
    "          + sklearn.metrics.cohen_kappa_score(df_cur.iloc[:, 1], df_cur.iloc[:, 3], \n",
    "                                             labels=None, weights=None, \n",
    "                                             sample_weight=None)\n",
    "          +sklearn.metrics.cohen_kappa_score(df_cur.iloc[:, 1], df_cur.iloc[:, 4], \n",
    "                                             labels=None, weights=None, \n",
    "                                             sample_weight=None))/3\n",
    "\n",
    "kappa_2 = (sklearn.metrics.cohen_kappa_score(df_cur.iloc[:, 2], df_cur.iloc[:, 1], \n",
    "                                             labels=None, weights=None, \n",
    "                                             sample_weight=None)\n",
    "          + sklearn.metrics.cohen_kappa_score(df_cur.iloc[:, 2], df_cur.iloc[:, 3], \n",
    "                                             labels=None, weights=None, \n",
    "                                             sample_weight=None)\n",
    "          +sklearn.metrics.cohen_kappa_score(df_cur.iloc[:, 2], df_cur.iloc[:, 4], \n",
    "                                             labels=None, weights=None, \n",
    "                                             sample_weight=None))/3\n",
    "\n",
    "kappa_3 = (sklearn.metrics.cohen_kappa_score(df_cur.iloc[:, 3], df_cur.iloc[:, 1], \n",
    "                                             labels=None, weights=None, \n",
    "                                             sample_weight=None)\n",
    "          + sklearn.metrics.cohen_kappa_score(df_cur.iloc[:, 3], df_cur.iloc[:, 2], \n",
    "                                             labels=None, weights=None, \n",
    "                                             sample_weight=None)\n",
    "          +sklearn.metrics.cohen_kappa_score(df_cur.iloc[:, 3], df_cur.iloc[:, 4], \n",
    "                                             labels=None, weights=None, \n",
    "                                             sample_weight=None))/3\n",
    "\n",
    "kappa_4 = (sklearn.metrics.cohen_kappa_score(df_cur.iloc[:, 4], df_cur.iloc[:, 1], \n",
    "                                             labels=None, weights=None, \n",
    "                                             sample_weight=None)\n",
    "          + sklearn.metrics.cohen_kappa_score(df_cur.iloc[:, 4], df_0.iloc[:, 2], \n",
    "                                             labels=None, weights=None, \n",
    "                                             sample_weight=None)\n",
    "          +sklearn.metrics.cohen_kappa_score(df_cur.iloc[:, 4], df_cur.iloc[:, 3], \n",
    "                                             labels=None, weights=None, \n",
    "                                             sample_weight=None))/3"
   ]
  },
  {
   "cell_type": "code",
   "execution_count": 51,
   "metadata": {
    "scrolled": false
   },
   "outputs": [
    {
     "name": "stdout",
     "output_type": "stream",
     "text": [
      "kappa 1: 0.4125172568390408\n",
      "kappa 2: 0.4479413860850894\n",
      "kappa 3: 0.454406657189879\n",
      "kappa 4: 0.2803217338357632\n"
     ]
    }
   ],
   "source": [
    "print('kappa 1:', kappa_1)\n",
    "print('kappa 2:', kappa_2)\n",
    "print('kappa 3:', kappa_3)\n",
    "print('kappa 4:', kappa_4)"
   ]
  },
  {
   "cell_type": "markdown",
   "metadata": {},
   "source": [
    "# Annotators, kappa's\n",
    "\n",
    "## df_0: \n",
    "### 4 Annotators, keep all.\n",
    "\n",
    "kappa 56: 0.37449258477361463\n",
    "\n",
    "kappa 57: 0.4628485822445733\n",
    "\n",
    "kappa 58: 0.36724433436200576\n",
    "\n",
    "kappa 59: 0.48572536773342634\n",
    "\n",
    "\n",
    "## df_1\n",
    "### 4 Annotators, keep all.\n",
    "\n",
    "kappa 91: 0.6210232245439785\n",
    "\n",
    "kappa 85: 0.5957329504706256\n",
    "\n",
    "kappa 86: 0.5975649954411598\n",
    "\n",
    "kappa 87: 0.38390911860685667 \n",
    "\n",
    "\n",
    "## df_2\n",
    "### 4 Annotators, keep all.\n",
    "\n",
    "kappa 51: 0.4724964451243631\n",
    "\n",
    "kappa 52: 0.34995673694855817\n",
    "\n",
    "kappa 53: 0.4956326545021735\n",
    "\n",
    "kappa 54: 0.37251496342922535\n",
    "\n",
    "## df_3\n",
    "### 4 Annotators, keep all.\n",
    "\n",
    "kappa 104: 0.44315735995110944\n",
    "\n",
    "kappa 101: 0.65511568783928\n",
    "\n",
    "kappa 102: 0.569458591203231\n",
    "\n",
    "kappa 103: 0.3508589039050169\n",
    "\n",
    "## df_4\n",
    "### 4 Annotators, keep all.\n",
    "\n",
    "kappa 72: 0.44315735995110944\n",
    "\n",
    "kappa 74: 0.65511568783928\n",
    "\n",
    "kappa 76: 0.569458591203231\n",
    "\n",
    "kappa 71: 0.3508589039050169\n"
   ]
  },
  {
   "cell_type": "markdown",
   "metadata": {},
   "source": [
    "# Labeling The Datasets\n",
    "### Do it for each dataset"
   ]
  },
  {
   "cell_type": "code",
   "execution_count": 237,
   "metadata": {},
   "outputs": [],
   "source": [
    "df_cur = df_4_lockdown\n",
    "df_cur['label'] = None\n",
    "\n",
    "for i in range(len(df_cur)):\n",
    "    label_true = 0\n",
    "    label_false = 0\n",
    "    \n",
    "    for col in df_cur.loc[i][1:]:\n",
    "        if col:\n",
    "            label_true+=1\n",
    "        else:\n",
    "            label_false+=1\n",
    "    \n",
    "    if label_true > label_false:\n",
    "        df_cur.iloc[i, 5] = True\n",
    "    elif label_true < label_false:\n",
    "        df_cur.iloc[i, 5] = False\n",
    "    else: #labels are same\n",
    "        kappa_scores = 0\n",
    "        kappa_scores += kappa_1 if df_cur.loc[i][1] else -kappa_1\n",
    "        kappa_scores += kappa_2 if df_cur.loc[i][1] else -kappa_2\n",
    "        kappa_scores += kappa_3 if df_cur.loc[i][1] else -kappa_3\n",
    "        kappa_scores += kappa_4 if df_cur.loc[i][1] else -kappa_4\n",
    "\n",
    "        df_cur.iloc[i, 5] = True if kappa_scores>=0 else False\n",
    "        \n",
    "df_4_lockdown = df_cur"
   ]
  },
  {
   "cell_type": "code",
   "execution_count": 238,
   "metadata": {},
   "outputs": [],
   "source": [
    "df_cur = df_4_mask\n",
    "df_cur['label'] = None\n",
    "\n",
    "for i in range(len(df_cur)):\n",
    "    label_true = 0\n",
    "    label_false = 0\n",
    "    \n",
    "    for col in df_cur.loc[i][1:]:\n",
    "        if col:\n",
    "            label_true+=1\n",
    "        else:\n",
    "            label_false+=1\n",
    "    \n",
    "    if label_true > label_false:\n",
    "        df_cur.iloc[i, 5] = True\n",
    "    elif label_true < label_false:\n",
    "        df_cur.iloc[i, 5] = False\n",
    "    else: #labels are same\n",
    "        kappa_scores = 0\n",
    "        kappa_scores += kappa_1 if df_cur.loc[i][1] else -kappa_1\n",
    "        kappa_scores += kappa_2 if df_cur.loc[i][1] else -kappa_2\n",
    "        kappa_scores += kappa_3 if df_cur.loc[i][1] else -kappa_3\n",
    "        kappa_scores += kappa_4 if df_cur.loc[i][1] else -kappa_4\n",
    "\n",
    "        df_cur.iloc[i, 5] = True if kappa_scores>=0 else False\n",
    "        \n",
    "df_4_mask = df_cur"
   ]
  },
  {
   "cell_type": "code",
   "execution_count": 239,
   "metadata": {},
   "outputs": [],
   "source": [
    "df_cur = df_4_vaccination\n",
    "df_cur['label'] = None\n",
    "\n",
    "for i in range(len(df_cur)):\n",
    "    label_true = 0\n",
    "    label_false = 0\n",
    "    \n",
    "    for col in df_cur.loc[i][1:]:\n",
    "        if col:\n",
    "            label_true+=1\n",
    "        else:\n",
    "            label_false+=1\n",
    "    \n",
    "    if label_true > label_false:\n",
    "        df_cur.iloc[i, 5] = True\n",
    "    elif label_true < label_false:\n",
    "        df_cur.iloc[i, 5] = False\n",
    "    else: #labels are same\n",
    "        kappa_scores = 0\n",
    "        kappa_scores += kappa_1 if df_cur.loc[i][1] else -kappa_1\n",
    "        kappa_scores += kappa_2 if df_cur.loc[i][1] else -kappa_2\n",
    "        kappa_scores += kappa_3 if df_cur.loc[i][1] else -kappa_3\n",
    "        kappa_scores += kappa_4 if df_cur.loc[i][1] else -kappa_4\n",
    "\n",
    "        df_cur.iloc[i, 5] = True if kappa_scores>=0 else False\n",
    "        \n",
    "df_4_vaccination = df_cur"
   ]
  },
  {
   "cell_type": "markdown",
   "metadata": {},
   "source": [
    "# Combine Datasets\n",
    "### Combine each label type to itself"
   ]
  },
  {
   "cell_type": "markdown",
   "metadata": {},
   "source": [
    "### Lockdown"
   ]
  },
  {
   "cell_type": "code",
   "execution_count": 242,
   "metadata": {},
   "outputs": [],
   "source": [
    "df_lockdown = df_0_lockdown[['text', 'label']]\n",
    "df_lockdown = df_lockdown.append(df_1_lockdown[['text','label']], ignore_index = True)\n",
    "df_lockdown = df_lockdown.append(df_2_lockdown[['text','label']], ignore_index = True)\n",
    "df_lockdown = df_lockdown.append(df_3_lockdown[['text','label']], ignore_index = True)\n",
    "df_lockdown = df_lockdown.append(df_4_lockdown[['text','label']], ignore_index = True)"
   ]
  },
  {
   "cell_type": "code",
   "execution_count": 254,
   "metadata": {},
   "outputs": [
    {
     "data": {
      "text/html": [
       "<div>\n",
       "<style scoped>\n",
       "    .dataframe tbody tr th:only-of-type {\n",
       "        vertical-align: middle;\n",
       "    }\n",
       "\n",
       "    .dataframe tbody tr th {\n",
       "        vertical-align: top;\n",
       "    }\n",
       "\n",
       "    .dataframe thead th {\n",
       "        text-align: right;\n",
       "    }\n",
       "</style>\n",
       "<table border=\"1\" class=\"dataframe\">\n",
       "  <thead>\n",
       "    <tr style=\"text-align: right;\">\n",
       "      <th></th>\n",
       "      <th>text</th>\n",
       "      <th>label</th>\n",
       "    </tr>\n",
       "  </thead>\n",
       "  <tbody>\n",
       "    <tr>\n",
       "      <th>0</th>\n",
       "      <td>Federal Judge Rules Against CDC, Throws Out Cr...</td>\n",
       "      <td>False</td>\n",
       "    </tr>\n",
       "    <tr>\n",
       "      <th>1</th>\n",
       "      <td>Indeed. Even in the dysfunctional US health sy...</td>\n",
       "      <td>False</td>\n",
       "    </tr>\n",
       "    <tr>\n",
       "      <th>2</th>\n",
       "      <td>a vaccine seems to be ESSENTIAL if we are to s...</td>\n",
       "      <td>False</td>\n",
       "    </tr>\n",
       "    <tr>\n",
       "      <th>3</th>\n",
       "      <td>Nurses union calls on CDC to reinstate univers...</td>\n",
       "      <td>False</td>\n",
       "    </tr>\n",
       "    <tr>\n",
       "      <th>4</th>\n",
       "      <td>Sirf  #MukeshAmbani  Company &amp;amp; it's Worker...</td>\n",
       "      <td>False</td>\n",
       "    </tr>\n",
       "    <tr>\n",
       "      <th>...</th>\n",
       "      <td>...</td>\n",
       "      <td>...</td>\n",
       "    </tr>\n",
       "    <tr>\n",
       "      <th>1495</th>\n",
       "      <td>Dr Reddy's Laboratories and Russian Direct Inv...</td>\n",
       "      <td>False</td>\n",
       "    </tr>\n",
       "    <tr>\n",
       "      <th>1496</th>\n",
       "      <td>\"#Covishield will be commercialised once the t...</td>\n",
       "      <td>False</td>\n",
       "    </tr>\n",
       "    <tr>\n",
       "      <th>1497</th>\n",
       "      <td>I am not, last lockdown here on RI was a compl...</td>\n",
       "      <td>False</td>\n",
       "    </tr>\n",
       "    <tr>\n",
       "      <th>1498</th>\n",
       "      <td>https://t.co/vuf52eSRgq  Why this warning or ...</td>\n",
       "      <td>False</td>\n",
       "    </tr>\n",
       "    <tr>\n",
       "      <th>1499</th>\n",
       "      <td>Opioid Prescribing Practices After the 2016 Re...</td>\n",
       "      <td>False</td>\n",
       "    </tr>\n",
       "  </tbody>\n",
       "</table>\n",
       "<p>1500 rows × 2 columns</p>\n",
       "</div>"
      ],
      "text/plain": [
       "                                                   text  label\n",
       "0     Federal Judge Rules Against CDC, Throws Out Cr...  False\n",
       "1     Indeed. Even in the dysfunctional US health sy...  False\n",
       "2     a vaccine seems to be ESSENTIAL if we are to s...  False\n",
       "3     Nurses union calls on CDC to reinstate univers...  False\n",
       "4     Sirf  #MukeshAmbani  Company &amp; it's Worker...  False\n",
       "...                                                 ...    ...\n",
       "1495  Dr Reddy's Laboratories and Russian Direct Inv...  False\n",
       "1496  \"#Covishield will be commercialised once the t...  False\n",
       "1497  I am not, last lockdown here on RI was a compl...  False\n",
       "1498   https://t.co/vuf52eSRgq  Why this warning or ...  False\n",
       "1499  Opioid Prescribing Practices After the 2016 Re...  False\n",
       "\n",
       "[1500 rows x 2 columns]"
      ]
     },
     "execution_count": 254,
     "metadata": {},
     "output_type": "execute_result"
    }
   ],
   "source": [
    "df_lockdown.head()"
   ]
  },
  {
   "cell_type": "code",
   "execution_count": 253,
   "metadata": {},
   "outputs": [],
   "source": [
    "df_lockdown.to_csv(\"twitter_topic_lockdown.csv\")"
   ]
  },
  {
   "cell_type": "markdown",
   "metadata": {},
   "source": [
    "### Masking and Distancing"
   ]
  },
  {
   "cell_type": "code",
   "execution_count": 246,
   "metadata": {},
   "outputs": [],
   "source": [
    "df_mask = df_0_mask[['text', 'label']]\n",
    "df_mask = df_mask.append(df_1_mask[['text','label']], ignore_index = True)\n",
    "df_mask = df_mask.append(df_2_mask[['text','label']], ignore_index = True)\n",
    "df_mask = df_mask.append(df_3_mask[['text','label']], ignore_index = True)\n",
    "df_mask = df_mask.append(df_4_mask[['text','label']], ignore_index = True)\n"
   ]
  },
  {
   "cell_type": "code",
   "execution_count": 255,
   "metadata": {},
   "outputs": [
    {
     "data": {
      "text/html": [
       "<div>\n",
       "<style scoped>\n",
       "    .dataframe tbody tr th:only-of-type {\n",
       "        vertical-align: middle;\n",
       "    }\n",
       "\n",
       "    .dataframe tbody tr th {\n",
       "        vertical-align: top;\n",
       "    }\n",
       "\n",
       "    .dataframe thead th {\n",
       "        text-align: right;\n",
       "    }\n",
       "</style>\n",
       "<table border=\"1\" class=\"dataframe\">\n",
       "  <thead>\n",
       "    <tr style=\"text-align: right;\">\n",
       "      <th></th>\n",
       "      <th>text</th>\n",
       "      <th>label</th>\n",
       "    </tr>\n",
       "  </thead>\n",
       "  <tbody>\n",
       "    <tr>\n",
       "      <th>0</th>\n",
       "      <td>Federal Judge Rules Against CDC, Throws Out Cr...</td>\n",
       "      <td>False</td>\n",
       "    </tr>\n",
       "    <tr>\n",
       "      <th>1</th>\n",
       "      <td>Indeed. Even in the dysfunctional US health sy...</td>\n",
       "      <td>False</td>\n",
       "    </tr>\n",
       "    <tr>\n",
       "      <th>2</th>\n",
       "      <td>a vaccine seems to be ESSENTIAL if we are to s...</td>\n",
       "      <td>False</td>\n",
       "    </tr>\n",
       "    <tr>\n",
       "      <th>3</th>\n",
       "      <td>Nurses union calls on CDC to reinstate univers...</td>\n",
       "      <td>True</td>\n",
       "    </tr>\n",
       "    <tr>\n",
       "      <th>4</th>\n",
       "      <td>Sirf  #MukeshAmbani  Company &amp;amp; it's Worker...</td>\n",
       "      <td>False</td>\n",
       "    </tr>\n",
       "  </tbody>\n",
       "</table>\n",
       "</div>"
      ],
      "text/plain": [
       "                                                text  label\n",
       "0  Federal Judge Rules Against CDC, Throws Out Cr...  False\n",
       "1  Indeed. Even in the dysfunctional US health sy...  False\n",
       "2  a vaccine seems to be ESSENTIAL if we are to s...  False\n",
       "3  Nurses union calls on CDC to reinstate univers...   True\n",
       "4  Sirf  #MukeshAmbani  Company &amp; it's Worker...  False"
      ]
     },
     "execution_count": 255,
     "metadata": {},
     "output_type": "execute_result"
    }
   ],
   "source": [
    "df_mask.head()"
   ]
  },
  {
   "cell_type": "code",
   "execution_count": 256,
   "metadata": {},
   "outputs": [],
   "source": [
    "df_mask.to_csv(\"twitter_topic_masking_and_distancing.csv\")"
   ]
  },
  {
   "cell_type": "markdown",
   "metadata": {},
   "source": [
    "### Vaccination"
   ]
  },
  {
   "cell_type": "code",
   "execution_count": 250,
   "metadata": {},
   "outputs": [],
   "source": [
    "df_vaccination = df_0_vaccination[['text', 'label']]\n",
    "df_vaccination = df_vaccination.append(df_1_vaccination[['text','label']], ignore_index = True)\n",
    "df_vaccination = df_vaccination.append(df_2_vaccination[['text','label']], ignore_index = True)\n",
    "df_vaccination = df_vaccination.append(df_3_vaccination[['text','label']], ignore_index = True)\n",
    "df_vaccination = df_vaccination.append(df_4_vaccination[['text','label']], ignore_index = True)"
   ]
  },
  {
   "cell_type": "code",
   "execution_count": 258,
   "metadata": {
    "scrolled": true
   },
   "outputs": [
    {
     "data": {
      "text/html": [
       "<div>\n",
       "<style scoped>\n",
       "    .dataframe tbody tr th:only-of-type {\n",
       "        vertical-align: middle;\n",
       "    }\n",
       "\n",
       "    .dataframe tbody tr th {\n",
       "        vertical-align: top;\n",
       "    }\n",
       "\n",
       "    .dataframe thead th {\n",
       "        text-align: right;\n",
       "    }\n",
       "</style>\n",
       "<table border=\"1\" class=\"dataframe\">\n",
       "  <thead>\n",
       "    <tr style=\"text-align: right;\">\n",
       "      <th></th>\n",
       "      <th>text</th>\n",
       "      <th>label</th>\n",
       "    </tr>\n",
       "  </thead>\n",
       "  <tbody>\n",
       "    <tr>\n",
       "      <th>0</th>\n",
       "      <td>Federal Judge Rules Against CDC, Throws Out Cr...</td>\n",
       "      <td>False</td>\n",
       "    </tr>\n",
       "    <tr>\n",
       "      <th>1</th>\n",
       "      <td>Indeed. Even in the dysfunctional US health sy...</td>\n",
       "      <td>True</td>\n",
       "    </tr>\n",
       "    <tr>\n",
       "      <th>2</th>\n",
       "      <td>a vaccine seems to be ESSENTIAL if we are to s...</td>\n",
       "      <td>True</td>\n",
       "    </tr>\n",
       "    <tr>\n",
       "      <th>3</th>\n",
       "      <td>Nurses union calls on CDC to reinstate univers...</td>\n",
       "      <td>False</td>\n",
       "    </tr>\n",
       "    <tr>\n",
       "      <th>4</th>\n",
       "      <td>Sirf  #MukeshAmbani  Company &amp;amp; it's Worker...</td>\n",
       "      <td>False</td>\n",
       "    </tr>\n",
       "  </tbody>\n",
       "</table>\n",
       "</div>"
      ],
      "text/plain": [
       "                                                text  label\n",
       "0  Federal Judge Rules Against CDC, Throws Out Cr...  False\n",
       "1  Indeed. Even in the dysfunctional US health sy...   True\n",
       "2  a vaccine seems to be ESSENTIAL if we are to s...   True\n",
       "3  Nurses union calls on CDC to reinstate univers...  False\n",
       "4  Sirf  #MukeshAmbani  Company &amp; it's Worker...  False"
      ]
     },
     "execution_count": 258,
     "metadata": {},
     "output_type": "execute_result"
    }
   ],
   "source": [
    "df_vaccination.head()"
   ]
  },
  {
   "cell_type": "code",
   "execution_count": 259,
   "metadata": {},
   "outputs": [],
   "source": [
    "df_vaccination.to_csv(\"twitter_topic_vaccination.csv\")"
   ]
  },
  {
   "cell_type": "markdown",
   "metadata": {},
   "source": [
    "# Secondary Sets\n",
    "### Do the same procedure for kappa's and labeling"
   ]
  },
  {
   "cell_type": "markdown",
   "metadata": {},
   "source": [
    "# Dataset 0"
   ]
  },
  {
   "cell_type": "code",
   "execution_count": 3,
   "metadata": {},
   "outputs": [],
   "source": [
    "df_0 = pd.read_csv('changeorg_topic_0.csv')"
   ]
  },
  {
   "cell_type": "code",
   "execution_count": 4,
   "metadata": {},
   "outputs": [],
   "source": [
    "df_0.fillna('missing', inplace=True)"
   ]
  },
  {
   "cell_type": "code",
   "execution_count": 5,
   "metadata": {},
   "outputs": [],
   "source": [
    "df_0_lockdown = pd.read_csv('changeorg_topic_0_lockdowns.csv')"
   ]
  },
  {
   "cell_type": "code",
   "execution_count": 6,
   "metadata": {},
   "outputs": [],
   "source": [
    "df_0_mask = pd.read_csv('changeorg_topic_0_masking_and_distancing.csv')"
   ]
  },
  {
   "cell_type": "code",
   "execution_count": 7,
   "metadata": {},
   "outputs": [],
   "source": [
    "df_0_vaccination = pd.read_csv('changeorg_topic_0_vaccination.csv')"
   ]
  },
  {
   "cell_type": "code",
   "execution_count": 8,
   "metadata": {},
   "outputs": [
    {
     "data": {
      "text/html": [
       "<div>\n",
       "<style scoped>\n",
       "    .dataframe tbody tr th:only-of-type {\n",
       "        vertical-align: middle;\n",
       "    }\n",
       "\n",
       "    .dataframe tbody tr th {\n",
       "        vertical-align: top;\n",
       "    }\n",
       "\n",
       "    .dataframe thead th {\n",
       "        text-align: right;\n",
       "    }\n",
       "</style>\n",
       "<table border=\"1\" class=\"dataframe\">\n",
       "  <thead>\n",
       "    <tr style=\"text-align: right;\">\n",
       "      <th></th>\n",
       "      <th>text</th>\n",
       "      <th>annotation_43</th>\n",
       "      <th>annotation_44</th>\n",
       "      <th>annotation_45</th>\n",
       "      <th>annotation_46</th>\n",
       "    </tr>\n",
       "  </thead>\n",
       "  <tbody>\n",
       "    <tr>\n",
       "      <th>0</th>\n",
       "      <td>Save Western Ghats from annihilation</td>\n",
       "      <td>lockdowns</td>\n",
       "      <td>missing</td>\n",
       "      <td>missing</td>\n",
       "      <td>missing</td>\n",
       "    </tr>\n",
       "    <tr>\n",
       "      <th>1</th>\n",
       "      <td>Save Beacon Hill Park</td>\n",
       "      <td>lockdowns</td>\n",
       "      <td>missing</td>\n",
       "      <td>missing</td>\n",
       "      <td>missing</td>\n",
       "    </tr>\n",
       "    <tr>\n",
       "      <th>2</th>\n",
       "      <td>Government of India: Don't Tax Medical Bills</td>\n",
       "      <td>lockdowns</td>\n",
       "      <td>missing</td>\n",
       "      <td>missing</td>\n",
       "      <td>missing</td>\n",
       "    </tr>\n",
       "    <tr>\n",
       "      <th>3</th>\n",
       "      <td>NO FAILING @ UCR</td>\n",
       "      <td>lockdowns</td>\n",
       "      <td>missing</td>\n",
       "      <td>missing</td>\n",
       "      <td>missing</td>\n",
       "    </tr>\n",
       "    <tr>\n",
       "      <th>4</th>\n",
       "      <td>WIAA - Let them play football!</td>\n",
       "      <td>lockdowns</td>\n",
       "      <td>masking and distancing</td>\n",
       "      <td>lockdowns</td>\n",
       "      <td>missing</td>\n",
       "    </tr>\n",
       "  </tbody>\n",
       "</table>\n",
       "</div>"
      ],
      "text/plain": [
       "                                           text annotation_43  \\\n",
       "0          Save Western Ghats from annihilation     lockdowns   \n",
       "1                         Save Beacon Hill Park     lockdowns   \n",
       "2  Government of India: Don't Tax Medical Bills     lockdowns   \n",
       "3                              NO FAILING @ UCR     lockdowns   \n",
       "4                WIAA - Let them play football!     lockdowns   \n",
       "\n",
       "            annotation_44 annotation_45 annotation_46  \n",
       "0                 missing       missing       missing  \n",
       "1                 missing       missing       missing  \n",
       "2                 missing       missing       missing  \n",
       "3                 missing       missing       missing  \n",
       "4  masking and distancing     lockdowns       missing  "
      ]
     },
     "execution_count": 8,
     "metadata": {},
     "output_type": "execute_result"
    }
   ],
   "source": [
    "#df_0.head()"
   ]
  },
  {
   "cell_type": "markdown",
   "metadata": {},
   "source": [
    "# Dataset 1"
   ]
  },
  {
   "cell_type": "code",
   "execution_count": 9,
   "metadata": {},
   "outputs": [],
   "source": [
    "df_1 = pd.read_csv('changeorg_topic_1.csv')"
   ]
  },
  {
   "cell_type": "code",
   "execution_count": 10,
   "metadata": {},
   "outputs": [],
   "source": [
    "df_1.fillna('missing', inplace=True)"
   ]
  },
  {
   "cell_type": "code",
   "execution_count": 11,
   "metadata": {},
   "outputs": [],
   "source": [
    "df_1_lockdown = pd.read_csv('changeorg_topic_1_lockdowns.csv')"
   ]
  },
  {
   "cell_type": "code",
   "execution_count": 12,
   "metadata": {},
   "outputs": [],
   "source": [
    "df_1_mask = pd.read_csv('changeorg_topic_1_masking_and_distancing.csv')"
   ]
  },
  {
   "cell_type": "code",
   "execution_count": 13,
   "metadata": {},
   "outputs": [],
   "source": [
    "df_1_vaccination = pd.read_csv('changeorg_topic_1_vaccination.csv')"
   ]
  },
  {
   "cell_type": "code",
   "execution_count": 36,
   "metadata": {},
   "outputs": [
    {
     "data": {
      "text/html": [
       "<div>\n",
       "<style scoped>\n",
       "    .dataframe tbody tr th:only-of-type {\n",
       "        vertical-align: middle;\n",
       "    }\n",
       "\n",
       "    .dataframe tbody tr th {\n",
       "        vertical-align: top;\n",
       "    }\n",
       "\n",
       "    .dataframe thead th {\n",
       "        text-align: right;\n",
       "    }\n",
       "</style>\n",
       "<table border=\"1\" class=\"dataframe\">\n",
       "  <thead>\n",
       "    <tr style=\"text-align: right;\">\n",
       "      <th></th>\n",
       "      <th>text</th>\n",
       "      <th>annotation_73</th>\n",
       "      <th>annotation_74</th>\n",
       "      <th>annotation_75</th>\n",
       "      <th>annotation_76</th>\n",
       "    </tr>\n",
       "  </thead>\n",
       "  <tbody>\n",
       "    <tr>\n",
       "      <th>0</th>\n",
       "      <td>COVID-19 Awards</td>\n",
       "      <td>missing</td>\n",
       "      <td>missing</td>\n",
       "      <td>missing</td>\n",
       "      <td>missing</td>\n",
       "    </tr>\n",
       "    <tr>\n",
       "      <th>1</th>\n",
       "      <td>Cancel the 2020-2021 school year SOLs</td>\n",
       "      <td>lockdowns</td>\n",
       "      <td>lockdowns</td>\n",
       "      <td>missing</td>\n",
       "      <td>lockdowns</td>\n",
       "    </tr>\n",
       "    <tr>\n",
       "      <th>2</th>\n",
       "      <td>..</td>\n",
       "      <td>missing</td>\n",
       "      <td>missing</td>\n",
       "      <td>missing</td>\n",
       "      <td>missing</td>\n",
       "    </tr>\n",
       "    <tr>\n",
       "      <th>3</th>\n",
       "      <td>Protect our nurses!</td>\n",
       "      <td>missing</td>\n",
       "      <td>missing</td>\n",
       "      <td>missing</td>\n",
       "      <td>missing</td>\n",
       "    </tr>\n",
       "    <tr>\n",
       "      <th>4</th>\n",
       "      <td>SENSELESS IMPRISONMENT FOR MY MOM.. FIRST TIME...</td>\n",
       "      <td>missing</td>\n",
       "      <td>missing</td>\n",
       "      <td>missing</td>\n",
       "      <td>lockdowns</td>\n",
       "    </tr>\n",
       "  </tbody>\n",
       "</table>\n",
       "</div>"
      ],
      "text/plain": [
       "                                                text annotation_73  \\\n",
       "0                                    COVID-19 Awards       missing   \n",
       "1              Cancel the 2020-2021 school year SOLs     lockdowns   \n",
       "2                                                 ..       missing   \n",
       "3                                Protect our nurses!       missing   \n",
       "4  SENSELESS IMPRISONMENT FOR MY MOM.. FIRST TIME...       missing   \n",
       "\n",
       "  annotation_74 annotation_75 annotation_76  \n",
       "0       missing       missing       missing  \n",
       "1     lockdowns       missing     lockdowns  \n",
       "2       missing       missing       missing  \n",
       "3       missing       missing       missing  \n",
       "4       missing       missing     lockdowns  "
      ]
     },
     "execution_count": 36,
     "metadata": {},
     "output_type": "execute_result"
    }
   ],
   "source": [
    "#df_1.head()"
   ]
  },
  {
   "cell_type": "markdown",
   "metadata": {},
   "source": [
    "# Dataset 2"
   ]
  },
  {
   "cell_type": "code",
   "execution_count": 15,
   "metadata": {},
   "outputs": [],
   "source": [
    "df_2 = pd.read_csv('changeorg_topic_2.csv')"
   ]
  },
  {
   "cell_type": "code",
   "execution_count": 16,
   "metadata": {},
   "outputs": [],
   "source": [
    "df_2.fillna('missing', inplace=True)"
   ]
  },
  {
   "cell_type": "code",
   "execution_count": 17,
   "metadata": {},
   "outputs": [],
   "source": [
    "df_2_lockdown = pd.read_csv('changeorg_topic_2_lockdowns.csv')"
   ]
  },
  {
   "cell_type": "code",
   "execution_count": 18,
   "metadata": {},
   "outputs": [],
   "source": [
    "df_2_mask = pd.read_csv('changeorg_topic_2_masking_and_distancing.csv')"
   ]
  },
  {
   "cell_type": "code",
   "execution_count": 19,
   "metadata": {},
   "outputs": [],
   "source": [
    "df_2_vaccination = pd.read_csv('changeorg_topic_2_vaccination.csv')"
   ]
  },
  {
   "cell_type": "code",
   "execution_count": 37,
   "metadata": {},
   "outputs": [
    {
     "data": {
      "text/html": [
       "<div>\n",
       "<style scoped>\n",
       "    .dataframe tbody tr th:only-of-type {\n",
       "        vertical-align: middle;\n",
       "    }\n",
       "\n",
       "    .dataframe tbody tr th {\n",
       "        vertical-align: top;\n",
       "    }\n",
       "\n",
       "    .dataframe thead th {\n",
       "        text-align: right;\n",
       "    }\n",
       "</style>\n",
       "<table border=\"1\" class=\"dataframe\">\n",
       "  <thead>\n",
       "    <tr style=\"text-align: right;\">\n",
       "      <th></th>\n",
       "      <th>text</th>\n",
       "      <th>annotation_48</th>\n",
       "      <th>annotation_49</th>\n",
       "      <th>annotation_50</th>\n",
       "      <th>annotation_47</th>\n",
       "    </tr>\n",
       "  </thead>\n",
       "  <tbody>\n",
       "    <tr>\n",
       "      <th>0</th>\n",
       "      <td>Postpone CBSE Board Exams</td>\n",
       "      <td>lockdowns</td>\n",
       "      <td>missing</td>\n",
       "      <td>missing</td>\n",
       "      <td>lockdowns</td>\n",
       "    </tr>\n",
       "    <tr>\n",
       "      <th>1</th>\n",
       "      <td>Pay rise for paramedics and nurses</td>\n",
       "      <td>missing</td>\n",
       "      <td>missing</td>\n",
       "      <td>missing</td>\n",
       "      <td>missing</td>\n",
       "    </tr>\n",
       "    <tr>\n",
       "      <th>2</th>\n",
       "      <td>Too Soon To Open Georgia!</td>\n",
       "      <td>lockdowns</td>\n",
       "      <td>lockdowns</td>\n",
       "      <td>lockdowns</td>\n",
       "      <td>lockdowns</td>\n",
       "    </tr>\n",
       "    <tr>\n",
       "      <th>3</th>\n",
       "      <td>Request to reconsider DPS Ruby Park school tui...</td>\n",
       "      <td>lockdowns</td>\n",
       "      <td>missing</td>\n",
       "      <td>missing</td>\n",
       "      <td>lockdowns</td>\n",
       "    </tr>\n",
       "    <tr>\n",
       "      <th>4</th>\n",
       "      <td>Covid-19 Aesthetics / Salon / Massage Industry...</td>\n",
       "      <td>missing</td>\n",
       "      <td>missing</td>\n",
       "      <td>missing</td>\n",
       "      <td>lockdowns</td>\n",
       "    </tr>\n",
       "  </tbody>\n",
       "</table>\n",
       "</div>"
      ],
      "text/plain": [
       "                                                text annotation_48  \\\n",
       "0                          Postpone CBSE Board Exams     lockdowns   \n",
       "1                 Pay rise for paramedics and nurses       missing   \n",
       "2                          Too Soon To Open Georgia!     lockdowns   \n",
       "3  Request to reconsider DPS Ruby Park school tui...     lockdowns   \n",
       "4  Covid-19 Aesthetics / Salon / Massage Industry...       missing   \n",
       "\n",
       "  annotation_49 annotation_50 annotation_47  \n",
       "0       missing       missing     lockdowns  \n",
       "1       missing       missing       missing  \n",
       "2     lockdowns     lockdowns     lockdowns  \n",
       "3       missing       missing     lockdowns  \n",
       "4       missing       missing     lockdowns  "
      ]
     },
     "execution_count": 37,
     "metadata": {},
     "output_type": "execute_result"
    }
   ],
   "source": [
    "#df_2.head()"
   ]
  },
  {
   "cell_type": "markdown",
   "metadata": {},
   "source": [
    "# Dataset 3"
   ]
  },
  {
   "cell_type": "code",
   "execution_count": 21,
   "metadata": {},
   "outputs": [],
   "source": [
    "df_3 = pd.read_csv('changeorg_topic_3.csv')"
   ]
  },
  {
   "cell_type": "code",
   "execution_count": 22,
   "metadata": {},
   "outputs": [],
   "source": [
    "df_3.fillna('missing', inplace=True)"
   ]
  },
  {
   "cell_type": "code",
   "execution_count": 23,
   "metadata": {},
   "outputs": [],
   "source": [
    "df_3_lockdown = pd.read_csv('changeorg_topic_3_lockdowns.csv')"
   ]
  },
  {
   "cell_type": "code",
   "execution_count": 24,
   "metadata": {},
   "outputs": [],
   "source": [
    "df_3_mask = pd.read_csv('changeorg_topic_3_masking_and_distancing.csv')"
   ]
  },
  {
   "cell_type": "code",
   "execution_count": 25,
   "metadata": {},
   "outputs": [],
   "source": [
    "df_3_vaccination = pd.read_csv('changeorg_topic_3_vaccination.csv')"
   ]
  },
  {
   "cell_type": "code",
   "execution_count": 38,
   "metadata": {},
   "outputs": [
    {
     "data": {
      "text/html": [
       "<div>\n",
       "<style scoped>\n",
       "    .dataframe tbody tr th:only-of-type {\n",
       "        vertical-align: middle;\n",
       "    }\n",
       "\n",
       "    .dataframe tbody tr th {\n",
       "        vertical-align: top;\n",
       "    }\n",
       "\n",
       "    .dataframe thead th {\n",
       "        text-align: right;\n",
       "    }\n",
       "</style>\n",
       "<table border=\"1\" class=\"dataframe\">\n",
       "  <thead>\n",
       "    <tr style=\"text-align: right;\">\n",
       "      <th></th>\n",
       "      <th>text</th>\n",
       "      <th>annotation_112</th>\n",
       "      <th>annotation_109</th>\n",
       "      <th>annotation_110</th>\n",
       "      <th>annotation_111</th>\n",
       "    </tr>\n",
       "  </thead>\n",
       "  <tbody>\n",
       "    <tr>\n",
       "      <th>0</th>\n",
       "      <td>Get CoVID Vaccines to Nepal ASAP and prevent a...</td>\n",
       "      <td>vaccination</td>\n",
       "      <td>vaccination</td>\n",
       "      <td>vaccination</td>\n",
       "      <td>vaccination</td>\n",
       "    </tr>\n",
       "    <tr>\n",
       "      <th>1</th>\n",
       "      <td>Compensate Essential Workers</td>\n",
       "      <td>missing</td>\n",
       "      <td>missing</td>\n",
       "      <td>vaccination</td>\n",
       "      <td>masking and distancing,lockdowns</td>\n",
       "    </tr>\n",
       "    <tr>\n",
       "      <th>2</th>\n",
       "      <td>Amend Recent COVID-19 Restrictions for Persona...</td>\n",
       "      <td>missing</td>\n",
       "      <td>lockdowns</td>\n",
       "      <td>lockdowns</td>\n",
       "      <td>masking and distancing</td>\n",
       "    </tr>\n",
       "    <tr>\n",
       "      <th>3</th>\n",
       "      <td>Petition against COVID-19 &amp; Quarantine Bill: S...</td>\n",
       "      <td>lockdowns</td>\n",
       "      <td>missing</td>\n",
       "      <td>missing</td>\n",
       "      <td>missing</td>\n",
       "    </tr>\n",
       "    <tr>\n",
       "      <th>4</th>\n",
       "      <td>KCL Has Coronavirus Case: Petition to Have Onl...</td>\n",
       "      <td>lockdowns</td>\n",
       "      <td>lockdowns</td>\n",
       "      <td>lockdowns</td>\n",
       "      <td>missing</td>\n",
       "    </tr>\n",
       "  </tbody>\n",
       "</table>\n",
       "</div>"
      ],
      "text/plain": [
       "                                                text annotation_112  \\\n",
       "0  Get CoVID Vaccines to Nepal ASAP and prevent a...    vaccination   \n",
       "1                       Compensate Essential Workers        missing   \n",
       "2  Amend Recent COVID-19 Restrictions for Persona...        missing   \n",
       "3  Petition against COVID-19 & Quarantine Bill: S...      lockdowns   \n",
       "4  KCL Has Coronavirus Case: Petition to Have Onl...      lockdowns   \n",
       "\n",
       "  annotation_109 annotation_110                    annotation_111  \n",
       "0    vaccination    vaccination                       vaccination  \n",
       "1        missing    vaccination  masking and distancing,lockdowns  \n",
       "2      lockdowns      lockdowns            masking and distancing  \n",
       "3        missing        missing                           missing  \n",
       "4      lockdowns      lockdowns                           missing  "
      ]
     },
     "execution_count": 38,
     "metadata": {},
     "output_type": "execute_result"
    }
   ],
   "source": [
    "#df_3.head()"
   ]
  },
  {
   "cell_type": "markdown",
   "metadata": {},
   "source": [
    "# Dataset 4"
   ]
  },
  {
   "cell_type": "code",
   "execution_count": 27,
   "metadata": {},
   "outputs": [],
   "source": [
    "df_4 = pd.read_csv('changeorg_topic_4.csv')"
   ]
  },
  {
   "cell_type": "code",
   "execution_count": 28,
   "metadata": {},
   "outputs": [],
   "source": [
    "df_4.fillna('missing', inplace=True)"
   ]
  },
  {
   "cell_type": "code",
   "execution_count": 29,
   "metadata": {},
   "outputs": [],
   "source": [
    "df_4_lockdown = pd.read_csv('changeorg_topic_4_lockdowns.csv')"
   ]
  },
  {
   "cell_type": "code",
   "execution_count": 30,
   "metadata": {},
   "outputs": [],
   "source": [
    "df_4_mask = pd.read_csv('changeorg_topic_4_masking_and_distancing.csv')"
   ]
  },
  {
   "cell_type": "code",
   "execution_count": 31,
   "metadata": {},
   "outputs": [],
   "source": [
    "df_4_vaccination = pd.read_csv('changeorg_topic_4_vaccination.csv')"
   ]
  },
  {
   "cell_type": "code",
   "execution_count": 39,
   "metadata": {},
   "outputs": [
    {
     "data": {
      "text/html": [
       "<div>\n",
       "<style scoped>\n",
       "    .dataframe tbody tr th:only-of-type {\n",
       "        vertical-align: middle;\n",
       "    }\n",
       "\n",
       "    .dataframe tbody tr th {\n",
       "        vertical-align: top;\n",
       "    }\n",
       "\n",
       "    .dataframe thead th {\n",
       "        text-align: right;\n",
       "    }\n",
       "</style>\n",
       "<table border=\"1\" class=\"dataframe\">\n",
       "  <thead>\n",
       "    <tr style=\"text-align: right;\">\n",
       "      <th></th>\n",
       "      <th>text</th>\n",
       "      <th>annotation_96</th>\n",
       "      <th>annotation_53</th>\n",
       "      <th>annotation_93</th>\n",
       "      <th>annotation_94</th>\n",
       "      <th>annotation_95</th>\n",
       "    </tr>\n",
       "  </thead>\n",
       "  <tbody>\n",
       "    <tr>\n",
       "      <th>0</th>\n",
       "      <td>Language Education in the Time of COVID-19</td>\n",
       "      <td>missing</td>\n",
       "      <td>missing</td>\n",
       "      <td>missing</td>\n",
       "      <td>missing</td>\n",
       "      <td>missing</td>\n",
       "    </tr>\n",
       "    <tr>\n",
       "      <th>1</th>\n",
       "      <td>COVID-19 Test Kits</td>\n",
       "      <td>missing</td>\n",
       "      <td>missing</td>\n",
       "      <td>missing</td>\n",
       "      <td>missing</td>\n",
       "      <td>missing</td>\n",
       "    </tr>\n",
       "    <tr>\n",
       "      <th>2</th>\n",
       "      <td>COVID 19 IN PRISON</td>\n",
       "      <td>missing</td>\n",
       "      <td>missing</td>\n",
       "      <td>missing</td>\n",
       "      <td>missing</td>\n",
       "      <td>missing</td>\n",
       "    </tr>\n",
       "    <tr>\n",
       "      <th>3</th>\n",
       "      <td>Get Waled Home</td>\n",
       "      <td>missing</td>\n",
       "      <td>missing</td>\n",
       "      <td>missing</td>\n",
       "      <td>missing</td>\n",
       "      <td>missing</td>\n",
       "    </tr>\n",
       "    <tr>\n",
       "      <th>4</th>\n",
       "      <td>Make pass/fail available for Mississippi State...</td>\n",
       "      <td>missing</td>\n",
       "      <td>missing</td>\n",
       "      <td>missing</td>\n",
       "      <td>missing</td>\n",
       "      <td>missing</td>\n",
       "    </tr>\n",
       "  </tbody>\n",
       "</table>\n",
       "</div>"
      ],
      "text/plain": [
       "                                                text annotation_96  \\\n",
       "0         Language Education in the Time of COVID-19       missing   \n",
       "1                                 COVID-19 Test Kits       missing   \n",
       "2                                 COVID 19 IN PRISON       missing   \n",
       "3                                     Get Waled Home       missing   \n",
       "4  Make pass/fail available for Mississippi State...       missing   \n",
       "\n",
       "  annotation_53 annotation_93 annotation_94 annotation_95  \n",
       "0       missing       missing       missing       missing  \n",
       "1       missing       missing       missing       missing  \n",
       "2       missing       missing       missing       missing  \n",
       "3       missing       missing       missing       missing  \n",
       "4       missing       missing       missing       missing  "
      ]
     },
     "execution_count": 39,
     "metadata": {},
     "output_type": "execute_result"
    }
   ],
   "source": [
    "#df_4.head()"
   ]
  },
  {
   "cell_type": "markdown",
   "metadata": {},
   "source": [
    "### Dataset 4 has five annotators, change some of the code while looking at the kappa"
   ]
  },
  {
   "cell_type": "markdown",
   "metadata": {},
   "source": [
    "## Finding Kappa"
   ]
  },
  {
   "cell_type": "code",
   "execution_count": 54,
   "metadata": {},
   "outputs": [],
   "source": [
    "df_cur = df_2\n",
    "\n",
    "kappa_1 = (sklearn.metrics.cohen_kappa_score(df_cur.iloc[:, 1], df_cur.iloc[:, 2], \n",
    "                                             labels=None, weights=None, \n",
    "                                             sample_weight=None)\n",
    "          + sklearn.metrics.cohen_kappa_score(df_cur.iloc[:, 1], df_cur.iloc[:, 3], \n",
    "                                             labels=None, weights=None, \n",
    "                                             sample_weight=None)\n",
    "          +sklearn.metrics.cohen_kappa_score(df_cur.iloc[:, 1], df_cur.iloc[:, 4], \n",
    "                                             labels=None, weights=None, \n",
    "                                             sample_weight=None))/3\n",
    "\n",
    "kappa_2 = (sklearn.metrics.cohen_kappa_score(df_cur.iloc[:, 2], df_cur.iloc[:, 1], \n",
    "                                             labels=None, weights=None, \n",
    "                                             sample_weight=None)\n",
    "          + sklearn.metrics.cohen_kappa_score(df_cur.iloc[:, 2], df_cur.iloc[:, 3], \n",
    "                                             labels=None, weights=None, \n",
    "                                             sample_weight=None)\n",
    "          +sklearn.metrics.cohen_kappa_score(df_cur.iloc[:, 2], df_cur.iloc[:, 4], \n",
    "                                             labels=None, weights=None, \n",
    "                                             sample_weight=None))/3\n",
    "\n",
    "kappa_3 = (sklearn.metrics.cohen_kappa_score(df_cur.iloc[:, 3], df_cur.iloc[:, 1], \n",
    "                                             labels=None, weights=None, \n",
    "                                             sample_weight=None)\n",
    "          + sklearn.metrics.cohen_kappa_score(df_cur.iloc[:, 3], df_cur.iloc[:, 2], \n",
    "                                             labels=None, weights=None, \n",
    "                                             sample_weight=None)\n",
    "          +sklearn.metrics.cohen_kappa_score(df_cur.iloc[:, 3], df_cur.iloc[:, 4], \n",
    "                                             labels=None, weights=None, \n",
    "                                             sample_weight=None))/3\n",
    "\n",
    "kappa_4 = (sklearn.metrics.cohen_kappa_score(df_cur.iloc[:, 4], df_cur.iloc[:, 1], \n",
    "                                             labels=None, weights=None, \n",
    "                                             sample_weight=None)\n",
    "          + sklearn.metrics.cohen_kappa_score(df_cur.iloc[:, 4], df_0.iloc[:, 2], \n",
    "                                             labels=None, weights=None, \n",
    "                                             sample_weight=None)\n",
    "          +sklearn.metrics.cohen_kappa_score(df_cur.iloc[:, 4], df_cur.iloc[:, 3], \n",
    "                                             labels=None, weights=None, \n",
    "                                             sample_weight=None))/3"
   ]
  },
  {
   "cell_type": "code",
   "execution_count": 57,
   "metadata": {},
   "outputs": [],
   "source": [
    "#optimized for dataset 4 (has 5 annotators)\n",
    "\n",
    "df_cur = df_4\n",
    "\n",
    "kappa_1 = (sklearn.metrics.cohen_kappa_score(df_cur.iloc[:, 1], df_cur.iloc[:, 2], \n",
    "                                             labels=None, weights=None, \n",
    "                                             sample_weight=None)\n",
    "          + sklearn.metrics.cohen_kappa_score(df_cur.iloc[:, 1], df_cur.iloc[:, 3], \n",
    "                                             labels=None, weights=None, \n",
    "                                             sample_weight=None)\n",
    "          +sklearn.metrics.cohen_kappa_score(df_cur.iloc[:, 1], df_cur.iloc[:, 4], \n",
    "                                             labels=None, weights=None, \n",
    "                                             sample_weight=None)\n",
    "          +sklearn.metrics.cohen_kappa_score(df_cur.iloc[:, 1], df_cur.iloc[:, 5], \n",
    "                                             labels=None, weights=None, \n",
    "                                             sample_weight=None))/4\n",
    "\n",
    "kappa_2 = (sklearn.metrics.cohen_kappa_score(df_cur.iloc[:, 2], df_cur.iloc[:, 1], \n",
    "                                             labels=None, weights=None, \n",
    "                                             sample_weight=None)\n",
    "          + sklearn.metrics.cohen_kappa_score(df_cur.iloc[:, 2], df_cur.iloc[:, 3], \n",
    "                                             labels=None, weights=None, \n",
    "                                             sample_weight=None)\n",
    "          +sklearn.metrics.cohen_kappa_score(df_cur.iloc[:, 2], df_cur.iloc[:, 4], \n",
    "                                             labels=None, weights=None, \n",
    "                                             sample_weight=None)\n",
    "          +sklearn.metrics.cohen_kappa_score(df_cur.iloc[:, 2], df_cur.iloc[:, 5], \n",
    "                                             labels=None, weights=None, \n",
    "                                             sample_weight=None))/4\n",
    "\n",
    "kappa_3 = (sklearn.metrics.cohen_kappa_score(df_cur.iloc[:, 3], df_cur.iloc[:, 1], \n",
    "                                             labels=None, weights=None, \n",
    "                                             sample_weight=None)\n",
    "          + sklearn.metrics.cohen_kappa_score(df_cur.iloc[:, 3], df_cur.iloc[:, 2], \n",
    "                                             labels=None, weights=None, \n",
    "                                             sample_weight=None)\n",
    "          +sklearn.metrics.cohen_kappa_score(df_cur.iloc[:, 3], df_cur.iloc[:, 4], \n",
    "                                             labels=None, weights=None, \n",
    "                                             sample_weight=None)\n",
    "          +sklearn.metrics.cohen_kappa_score(df_cur.iloc[:, 3], df_cur.iloc[:, 5], \n",
    "                                             labels=None, weights=None, \n",
    "                                             sample_weight=None))/4\n",
    "\n",
    "kappa_4 = (sklearn.metrics.cohen_kappa_score(df_cur.iloc[:, 4], df_cur.iloc[:, 1], \n",
    "                                             labels=None, weights=None, \n",
    "                                             sample_weight=None)\n",
    "          + sklearn.metrics.cohen_kappa_score(df_cur.iloc[:, 4], df_0.iloc[:, 2], \n",
    "                                             labels=None, weights=None, \n",
    "                                             sample_weight=None)\n",
    "          +sklearn.metrics.cohen_kappa_score(df_cur.iloc[:, 4], df_cur.iloc[:, 3], \n",
    "                                             labels=None, weights=None, \n",
    "                                             sample_weight=None)\n",
    "          +sklearn.metrics.cohen_kappa_score(df_cur.iloc[:, 4], df_cur.iloc[:, 5], \n",
    "                                             labels=None, weights=None, \n",
    "                                             sample_weight=None))/4\n",
    "\n",
    "kappa_5 = (sklearn.metrics.cohen_kappa_score(df_cur.iloc[:, 5], df_cur.iloc[:, 1], \n",
    "                                             labels=None, weights=None, \n",
    "                                             sample_weight=None)\n",
    "          + sklearn.metrics.cohen_kappa_score(df_cur.iloc[:, 5], df_0.iloc[:, 2], \n",
    "                                             labels=None, weights=None, \n",
    "                                             sample_weight=None)\n",
    "          +sklearn.metrics.cohen_kappa_score(df_cur.iloc[:, 5], df_cur.iloc[:, 3], \n",
    "                                             labels=None, weights=None, \n",
    "                                             sample_weight=None)\n",
    "          +sklearn.metrics.cohen_kappa_score(df_cur.iloc[:, 5], df_cur.iloc[:, 4], \n",
    "                                             labels=None, weights=None, \n",
    "                                             sample_weight=None))/4\n"
   ]
  },
  {
   "cell_type": "code",
   "execution_count": 58,
   "metadata": {
    "scrolled": false
   },
   "outputs": [
    {
     "name": "stdout",
     "output_type": "stream",
     "text": [
      "kappa 1: 0.3056438218179325\n",
      "kappa 2: 0.0479864857235143\n",
      "kappa 3: 0.230724059332207\n",
      "kappa 4: 0.315059519844437\n",
      "kappa 4: 0.3070102812116629\n"
     ]
    }
   ],
   "source": [
    "print('kappa 1:', kappa_1)\n",
    "print('kappa 2:', kappa_2)\n",
    "print('kappa 3:', kappa_3)\n",
    "print('kappa 4:', kappa_4)\n",
    "print('kappa 4:', kappa_5)"
   ]
  },
  {
   "cell_type": "markdown",
   "metadata": {},
   "source": [
    "# Annotators, kappa's\n",
    "\n",
    "## df_0: \n",
    "### 3 Annotators. Annotator 43 is unreliable.\n",
    "\n",
    "kappa 43: 0.0729400722183449\n",
    "\n",
    "kappa 44: 0.3653958972415916\n",
    "\n",
    "kappa 45: 0.3950997775171102\n",
    "\n",
    "kappa 46: 0.38086750540434416\n",
    "\n",
    "\n",
    "## df_1\n",
    "### 4 Annotators, keep all.\n",
    "\n",
    "kappa 73: 0.5998101568552087\n",
    "\n",
    "kappa 74: 0.6064004363143914\n",
    "\n",
    "kappa 75: 0.4588812351405374\n",
    "\n",
    "kappa 76: 0.4014548691920357\n",
    "\n",
    "\n",
    "## df_2\n",
    "### 4 Annotators, keep all.\n",
    "\n",
    "kappa 48: 0.4125172568390408\n",
    "\n",
    "kappa 49: 0.4479413860850894\n",
    "\n",
    "kappa 50: 0.454406657189879\n",
    "\n",
    "kappa 47: 0.2803217338357632\n",
    "\n",
    "## df_3\n",
    "### 3 Annotators Annotator 111 is unreliable.\n",
    "\n",
    "kappa 112: 0.3744886183380893\n",
    "\n",
    "kappa 109: 0.41148335806861763\n",
    "\n",
    "kappa 110: 0.32150079175224594\n",
    "\n",
    "kappa 111: 0.17381735266047096\n",
    "\n",
    "## df_4\n",
    "### 4 Annotators. Annotator 53 is unreliable.\n",
    "\n",
    "kappa 96: 0.3056438218179325\n",
    "\n",
    "kappa 53: 0.0479864857235143\n",
    "\n",
    "kappa 93: 0.230724059332207\n",
    "\n",
    "kappa 94: 0.315059519844437\n",
    "\n",
    "kappa 95: 0.3070102812116629\n"
   ]
  },
  {
   "cell_type": "markdown",
   "metadata": {},
   "source": [
    "## Drop unreliable annotators"
   ]
  },
  {
   "cell_type": "code",
   "execution_count": 64,
   "metadata": {},
   "outputs": [],
   "source": [
    "df_0 = df_0.drop(columns=['annotation_43'])\n",
    "df_0_lockdown = df_0_lockdown.drop(columns=['annotation_43'])\n",
    "df_0_mask = df_0_mask.drop(columns=['annotation_43'])\n",
    "df_0_vaccination = df_0_vaccination.drop(columns=['annotation_43'])"
   ]
  },
  {
   "cell_type": "code",
   "execution_count": 118,
   "metadata": {},
   "outputs": [
    {
     "data": {
      "text/html": [
       "<div>\n",
       "<style scoped>\n",
       "    .dataframe tbody tr th:only-of-type {\n",
       "        vertical-align: middle;\n",
       "    }\n",
       "\n",
       "    .dataframe tbody tr th {\n",
       "        vertical-align: top;\n",
       "    }\n",
       "\n",
       "    .dataframe thead th {\n",
       "        text-align: right;\n",
       "    }\n",
       "</style>\n",
       "<table border=\"1\" class=\"dataframe\">\n",
       "  <thead>\n",
       "    <tr style=\"text-align: right;\">\n",
       "      <th></th>\n",
       "      <th>text</th>\n",
       "      <th>annotation_44</th>\n",
       "      <th>annotation_45</th>\n",
       "      <th>annotation_46</th>\n",
       "      <th>label</th>\n",
       "    </tr>\n",
       "  </thead>\n",
       "  <tbody>\n",
       "    <tr>\n",
       "      <th>0</th>\n",
       "      <td>Save Western Ghats from annihilation</td>\n",
       "      <td>False</td>\n",
       "      <td>False</td>\n",
       "      <td>False</td>\n",
       "      <td>False</td>\n",
       "    </tr>\n",
       "    <tr>\n",
       "      <th>1</th>\n",
       "      <td>Save Beacon Hill Park</td>\n",
       "      <td>False</td>\n",
       "      <td>False</td>\n",
       "      <td>False</td>\n",
       "      <td>False</td>\n",
       "    </tr>\n",
       "    <tr>\n",
       "      <th>2</th>\n",
       "      <td>Government of India: Don't Tax Medical Bills</td>\n",
       "      <td>False</td>\n",
       "      <td>False</td>\n",
       "      <td>False</td>\n",
       "      <td>False</td>\n",
       "    </tr>\n",
       "    <tr>\n",
       "      <th>3</th>\n",
       "      <td>NO FAILING @ UCR</td>\n",
       "      <td>False</td>\n",
       "      <td>False</td>\n",
       "      <td>False</td>\n",
       "      <td>False</td>\n",
       "    </tr>\n",
       "    <tr>\n",
       "      <th>4</th>\n",
       "      <td>WIAA - Let them play football!</td>\n",
       "      <td>False</td>\n",
       "      <td>False</td>\n",
       "      <td>False</td>\n",
       "      <td>False</td>\n",
       "    </tr>\n",
       "  </tbody>\n",
       "</table>\n",
       "</div>"
      ],
      "text/plain": [
       "                                           text  annotation_44  annotation_45  \\\n",
       "0          Save Western Ghats from annihilation          False          False   \n",
       "1                         Save Beacon Hill Park          False          False   \n",
       "2  Government of India: Don't Tax Medical Bills          False          False   \n",
       "3                              NO FAILING @ UCR          False          False   \n",
       "4                WIAA - Let them play football!          False          False   \n",
       "\n",
       "   annotation_46  label  \n",
       "0          False  False  \n",
       "1          False  False  \n",
       "2          False  False  \n",
       "3          False  False  \n",
       "4          False  False  "
      ]
     },
     "execution_count": 118,
     "metadata": {},
     "output_type": "execute_result"
    }
   ],
   "source": [
    "#df_0_vaccination.head()"
   ]
  },
  {
   "cell_type": "code",
   "execution_count": 66,
   "metadata": {},
   "outputs": [],
   "source": [
    "df_3 = df_3.drop(columns=['annotation_111'])\n",
    "df_3_lockdown = df_3_lockdown.drop(columns=['annotation_111'])\n",
    "df_3_mask = df_3_mask.drop(columns=['annotation_111'])\n",
    "df_3_vaccination = df_3_vaccination.drop(columns=['annotation_111'])"
   ]
  },
  {
   "cell_type": "code",
   "execution_count": 117,
   "metadata": {},
   "outputs": [
    {
     "data": {
      "text/html": [
       "<div>\n",
       "<style scoped>\n",
       "    .dataframe tbody tr th:only-of-type {\n",
       "        vertical-align: middle;\n",
       "    }\n",
       "\n",
       "    .dataframe tbody tr th {\n",
       "        vertical-align: top;\n",
       "    }\n",
       "\n",
       "    .dataframe thead th {\n",
       "        text-align: right;\n",
       "    }\n",
       "</style>\n",
       "<table border=\"1\" class=\"dataframe\">\n",
       "  <thead>\n",
       "    <tr style=\"text-align: right;\">\n",
       "      <th></th>\n",
       "      <th>text</th>\n",
       "      <th>annotation_112</th>\n",
       "      <th>annotation_109</th>\n",
       "      <th>annotation_110</th>\n",
       "      <th>label</th>\n",
       "    </tr>\n",
       "  </thead>\n",
       "  <tbody>\n",
       "    <tr>\n",
       "      <th>0</th>\n",
       "      <td>Get CoVID Vaccines to Nepal ASAP and prevent a...</td>\n",
       "      <td>False</td>\n",
       "      <td>False</td>\n",
       "      <td>False</td>\n",
       "      <td>False</td>\n",
       "    </tr>\n",
       "    <tr>\n",
       "      <th>1</th>\n",
       "      <td>Compensate Essential Workers</td>\n",
       "      <td>False</td>\n",
       "      <td>False</td>\n",
       "      <td>False</td>\n",
       "      <td>False</td>\n",
       "    </tr>\n",
       "    <tr>\n",
       "      <th>2</th>\n",
       "      <td>Amend Recent COVID-19 Restrictions for Persona...</td>\n",
       "      <td>False</td>\n",
       "      <td>True</td>\n",
       "      <td>True</td>\n",
       "      <td>False</td>\n",
       "    </tr>\n",
       "    <tr>\n",
       "      <th>3</th>\n",
       "      <td>Petition against COVID-19 &amp; Quarantine Bill: S...</td>\n",
       "      <td>True</td>\n",
       "      <td>False</td>\n",
       "      <td>False</td>\n",
       "      <td>False</td>\n",
       "    </tr>\n",
       "    <tr>\n",
       "      <th>4</th>\n",
       "      <td>KCL Has Coronavirus Case: Petition to Have Onl...</td>\n",
       "      <td>True</td>\n",
       "      <td>True</td>\n",
       "      <td>True</td>\n",
       "      <td>True</td>\n",
       "    </tr>\n",
       "  </tbody>\n",
       "</table>\n",
       "</div>"
      ],
      "text/plain": [
       "                                                text  annotation_112  \\\n",
       "0  Get CoVID Vaccines to Nepal ASAP and prevent a...           False   \n",
       "1                       Compensate Essential Workers           False   \n",
       "2  Amend Recent COVID-19 Restrictions for Persona...           False   \n",
       "3  Petition against COVID-19 & Quarantine Bill: S...            True   \n",
       "4  KCL Has Coronavirus Case: Petition to Have Onl...            True   \n",
       "\n",
       "   annotation_109  annotation_110  label  \n",
       "0           False           False  False  \n",
       "1           False           False  False  \n",
       "2            True            True  False  \n",
       "3           False           False  False  \n",
       "4            True            True   True  "
      ]
     },
     "execution_count": 117,
     "metadata": {},
     "output_type": "execute_result"
    }
   ],
   "source": [
    "#df_3.head()"
   ]
  },
  {
   "cell_type": "code",
   "execution_count": 114,
   "metadata": {},
   "outputs": [],
   "source": [
    "df_4 = df_4.drop(columns=['annotation_53'])\n",
    "df_4_lockdown = df_4_lockdown.drop(columns=['annotation_53'])\n",
    "df_4_mask = df_4_mask.drop(columns=['annotation_53'])\n",
    "df_4_vaccination = df_4_vaccination.drop(columns=['annotation_53'])"
   ]
  },
  {
   "cell_type": "code",
   "execution_count": 115,
   "metadata": {},
   "outputs": [
    {
     "data": {
      "text/html": [
       "<div>\n",
       "<style scoped>\n",
       "    .dataframe tbody tr th:only-of-type {\n",
       "        vertical-align: middle;\n",
       "    }\n",
       "\n",
       "    .dataframe tbody tr th {\n",
       "        vertical-align: top;\n",
       "    }\n",
       "\n",
       "    .dataframe thead th {\n",
       "        text-align: right;\n",
       "    }\n",
       "</style>\n",
       "<table border=\"1\" class=\"dataframe\">\n",
       "  <thead>\n",
       "    <tr style=\"text-align: right;\">\n",
       "      <th></th>\n",
       "      <th>text</th>\n",
       "      <th>annotation_96</th>\n",
       "      <th>annotation_93</th>\n",
       "      <th>annotation_94</th>\n",
       "      <th>annotation_95</th>\n",
       "      <th>label</th>\n",
       "    </tr>\n",
       "  </thead>\n",
       "  <tbody>\n",
       "    <tr>\n",
       "      <th>0</th>\n",
       "      <td>Language Education in the Time of COVID-19</td>\n",
       "      <td>False</td>\n",
       "      <td>False</td>\n",
       "      <td>False</td>\n",
       "      <td>False</td>\n",
       "      <td>None</td>\n",
       "    </tr>\n",
       "    <tr>\n",
       "      <th>1</th>\n",
       "      <td>COVID-19 Test Kits</td>\n",
       "      <td>False</td>\n",
       "      <td>False</td>\n",
       "      <td>False</td>\n",
       "      <td>False</td>\n",
       "      <td>None</td>\n",
       "    </tr>\n",
       "    <tr>\n",
       "      <th>2</th>\n",
       "      <td>COVID 19 IN PRISON</td>\n",
       "      <td>False</td>\n",
       "      <td>False</td>\n",
       "      <td>False</td>\n",
       "      <td>False</td>\n",
       "      <td>None</td>\n",
       "    </tr>\n",
       "    <tr>\n",
       "      <th>3</th>\n",
       "      <td>Get Waled Home</td>\n",
       "      <td>False</td>\n",
       "      <td>False</td>\n",
       "      <td>False</td>\n",
       "      <td>False</td>\n",
       "      <td>None</td>\n",
       "    </tr>\n",
       "    <tr>\n",
       "      <th>4</th>\n",
       "      <td>Make pass/fail available for Mississippi State...</td>\n",
       "      <td>False</td>\n",
       "      <td>False</td>\n",
       "      <td>False</td>\n",
       "      <td>False</td>\n",
       "      <td>None</td>\n",
       "    </tr>\n",
       "    <tr>\n",
       "      <th>...</th>\n",
       "      <td>...</td>\n",
       "      <td>...</td>\n",
       "      <td>...</td>\n",
       "      <td>...</td>\n",
       "      <td>...</td>\n",
       "      <td>...</td>\n",
       "    </tr>\n",
       "    <tr>\n",
       "      <th>295</th>\n",
       "      <td>Cancellation of Lebanese Official Exams for 20...</td>\n",
       "      <td>False</td>\n",
       "      <td>True</td>\n",
       "      <td>False</td>\n",
       "      <td>False</td>\n",
       "      <td>None</td>\n",
       "    </tr>\n",
       "    <tr>\n",
       "      <th>296</th>\n",
       "      <td>Hazard pay for essential employees working wit...</td>\n",
       "      <td>False</td>\n",
       "      <td>False</td>\n",
       "      <td>False</td>\n",
       "      <td>False</td>\n",
       "      <td>None</td>\n",
       "    </tr>\n",
       "    <tr>\n",
       "      <th>297</th>\n",
       "      <td>Stop children being weighed in school without ...</td>\n",
       "      <td>False</td>\n",
       "      <td>False</td>\n",
       "      <td>False</td>\n",
       "      <td>False</td>\n",
       "      <td>None</td>\n",
       "    </tr>\n",
       "    <tr>\n",
       "      <th>298</th>\n",
       "      <td>Allow Visitors for Covid-19 Patients</td>\n",
       "      <td>True</td>\n",
       "      <td>False</td>\n",
       "      <td>False</td>\n",
       "      <td>False</td>\n",
       "      <td>None</td>\n",
       "    </tr>\n",
       "    <tr>\n",
       "      <th>299</th>\n",
       "      <td>Exigimos acciones de control y salud en la Res...</td>\n",
       "      <td>False</td>\n",
       "      <td>False</td>\n",
       "      <td>False</td>\n",
       "      <td>False</td>\n",
       "      <td>None</td>\n",
       "    </tr>\n",
       "  </tbody>\n",
       "</table>\n",
       "<p>300 rows × 6 columns</p>\n",
       "</div>"
      ],
      "text/plain": [
       "                                                  text  annotation_96  \\\n",
       "0           Language Education in the Time of COVID-19          False   \n",
       "1                                   COVID-19 Test Kits          False   \n",
       "2                                   COVID 19 IN PRISON          False   \n",
       "3                                       Get Waled Home          False   \n",
       "4    Make pass/fail available for Mississippi State...          False   \n",
       "..                                                 ...            ...   \n",
       "295  Cancellation of Lebanese Official Exams for 20...          False   \n",
       "296  Hazard pay for essential employees working wit...          False   \n",
       "297  Stop children being weighed in school without ...          False   \n",
       "298               Allow Visitors for Covid-19 Patients           True   \n",
       "299  Exigimos acciones de control y salud en la Res...          False   \n",
       "\n",
       "     annotation_93  annotation_94  annotation_95 label  \n",
       "0            False          False          False  None  \n",
       "1            False          False          False  None  \n",
       "2            False          False          False  None  \n",
       "3            False          False          False  None  \n",
       "4            False          False          False  None  \n",
       "..             ...            ...            ...   ...  \n",
       "295           True          False          False  None  \n",
       "296          False          False          False  None  \n",
       "297          False          False          False  None  \n",
       "298          False          False          False  None  \n",
       "299          False          False          False  None  \n",
       "\n",
       "[300 rows x 6 columns]"
      ]
     },
     "execution_count": 115,
     "metadata": {},
     "output_type": "execute_result"
    }
   ],
   "source": [
    "#df_4_lockdown"
   ]
  },
  {
   "cell_type": "markdown",
   "metadata": {},
   "source": [
    "# Labeling The Datasets\n",
    "### Do it for each dataset"
   ]
  },
  {
   "cell_type": "markdown",
   "metadata": {},
   "source": [
    "### For 4 annotations"
   ]
  },
  {
   "cell_type": "code",
   "execution_count": 119,
   "metadata": {},
   "outputs": [],
   "source": [
    "df_cur = df_4_lockdown\n",
    "df_cur['label'] = None\n",
    "\n",
    "for i in range(len(df_cur)):\n",
    "    label_true = 0\n",
    "    label_false = 0\n",
    "    \n",
    "    for col in df_cur.loc[i][1:]:\n",
    "        if col:\n",
    "            label_true+=1\n",
    "        else:\n",
    "            label_false+=1\n",
    "    \n",
    "    if label_true > label_false:\n",
    "        df_cur.iloc[i, 5] = True\n",
    "    elif label_true < label_false:\n",
    "        df_cur.iloc[i, 5] = False\n",
    "    else: #labels are same\n",
    "        kappa_scores = 0\n",
    "        kappa_scores += kappa_1 if df_cur.loc[i][1] else -kappa_1\n",
    "        kappa_scores += kappa_2 if df_cur.loc[i][1] else -kappa_2\n",
    "        kappa_scores += kappa_3 if df_cur.loc[i][1] else -kappa_3\n",
    "        kappa_scores += kappa_4 if df_cur.loc[i][1] else -kappa_4\n",
    "\n",
    "        df_cur.iloc[i, 5] = True if kappa_scores>=0 else False\n",
    "        \n",
    "df_4_lockdown = df_cur"
   ]
  },
  {
   "cell_type": "code",
   "execution_count": 120,
   "metadata": {},
   "outputs": [
    {
     "data": {
      "text/html": [
       "<div>\n",
       "<style scoped>\n",
       "    .dataframe tbody tr th:only-of-type {\n",
       "        vertical-align: middle;\n",
       "    }\n",
       "\n",
       "    .dataframe tbody tr th {\n",
       "        vertical-align: top;\n",
       "    }\n",
       "\n",
       "    .dataframe thead th {\n",
       "        text-align: right;\n",
       "    }\n",
       "</style>\n",
       "<table border=\"1\" class=\"dataframe\">\n",
       "  <thead>\n",
       "    <tr style=\"text-align: right;\">\n",
       "      <th></th>\n",
       "      <th>text</th>\n",
       "      <th>annotation_96</th>\n",
       "      <th>annotation_93</th>\n",
       "      <th>annotation_94</th>\n",
       "      <th>annotation_95</th>\n",
       "      <th>label</th>\n",
       "    </tr>\n",
       "  </thead>\n",
       "  <tbody>\n",
       "    <tr>\n",
       "      <th>0</th>\n",
       "      <td>Language Education in the Time of COVID-19</td>\n",
       "      <td>False</td>\n",
       "      <td>False</td>\n",
       "      <td>False</td>\n",
       "      <td>False</td>\n",
       "      <td>False</td>\n",
       "    </tr>\n",
       "    <tr>\n",
       "      <th>1</th>\n",
       "      <td>COVID-19 Test Kits</td>\n",
       "      <td>False</td>\n",
       "      <td>False</td>\n",
       "      <td>False</td>\n",
       "      <td>False</td>\n",
       "      <td>False</td>\n",
       "    </tr>\n",
       "    <tr>\n",
       "      <th>2</th>\n",
       "      <td>COVID 19 IN PRISON</td>\n",
       "      <td>False</td>\n",
       "      <td>False</td>\n",
       "      <td>False</td>\n",
       "      <td>False</td>\n",
       "      <td>False</td>\n",
       "    </tr>\n",
       "    <tr>\n",
       "      <th>3</th>\n",
       "      <td>Get Waled Home</td>\n",
       "      <td>False</td>\n",
       "      <td>False</td>\n",
       "      <td>False</td>\n",
       "      <td>False</td>\n",
       "      <td>False</td>\n",
       "    </tr>\n",
       "    <tr>\n",
       "      <th>4</th>\n",
       "      <td>Make pass/fail available for Mississippi State...</td>\n",
       "      <td>False</td>\n",
       "      <td>False</td>\n",
       "      <td>False</td>\n",
       "      <td>False</td>\n",
       "      <td>False</td>\n",
       "    </tr>\n",
       "    <tr>\n",
       "      <th>...</th>\n",
       "      <td>...</td>\n",
       "      <td>...</td>\n",
       "      <td>...</td>\n",
       "      <td>...</td>\n",
       "      <td>...</td>\n",
       "      <td>...</td>\n",
       "    </tr>\n",
       "    <tr>\n",
       "      <th>295</th>\n",
       "      <td>Cancellation of Lebanese Official Exams for 20...</td>\n",
       "      <td>False</td>\n",
       "      <td>True</td>\n",
       "      <td>False</td>\n",
       "      <td>False</td>\n",
       "      <td>False</td>\n",
       "    </tr>\n",
       "    <tr>\n",
       "      <th>296</th>\n",
       "      <td>Hazard pay for essential employees working wit...</td>\n",
       "      <td>False</td>\n",
       "      <td>False</td>\n",
       "      <td>False</td>\n",
       "      <td>False</td>\n",
       "      <td>False</td>\n",
       "    </tr>\n",
       "    <tr>\n",
       "      <th>297</th>\n",
       "      <td>Stop children being weighed in school without ...</td>\n",
       "      <td>False</td>\n",
       "      <td>False</td>\n",
       "      <td>False</td>\n",
       "      <td>False</td>\n",
       "      <td>False</td>\n",
       "    </tr>\n",
       "    <tr>\n",
       "      <th>298</th>\n",
       "      <td>Allow Visitors for Covid-19 Patients</td>\n",
       "      <td>True</td>\n",
       "      <td>False</td>\n",
       "      <td>False</td>\n",
       "      <td>False</td>\n",
       "      <td>False</td>\n",
       "    </tr>\n",
       "    <tr>\n",
       "      <th>299</th>\n",
       "      <td>Exigimos acciones de control y salud en la Res...</td>\n",
       "      <td>False</td>\n",
       "      <td>False</td>\n",
       "      <td>False</td>\n",
       "      <td>False</td>\n",
       "      <td>False</td>\n",
       "    </tr>\n",
       "  </tbody>\n",
       "</table>\n",
       "<p>300 rows × 6 columns</p>\n",
       "</div>"
      ],
      "text/plain": [
       "                                                  text  annotation_96  \\\n",
       "0           Language Education in the Time of COVID-19          False   \n",
       "1                                   COVID-19 Test Kits          False   \n",
       "2                                   COVID 19 IN PRISON          False   \n",
       "3                                       Get Waled Home          False   \n",
       "4    Make pass/fail available for Mississippi State...          False   \n",
       "..                                                 ...            ...   \n",
       "295  Cancellation of Lebanese Official Exams for 20...          False   \n",
       "296  Hazard pay for essential employees working wit...          False   \n",
       "297  Stop children being weighed in school without ...          False   \n",
       "298               Allow Visitors for Covid-19 Patients           True   \n",
       "299  Exigimos acciones de control y salud en la Res...          False   \n",
       "\n",
       "     annotation_93  annotation_94  annotation_95  label  \n",
       "0            False          False          False  False  \n",
       "1            False          False          False  False  \n",
       "2            False          False          False  False  \n",
       "3            False          False          False  False  \n",
       "4            False          False          False  False  \n",
       "..             ...            ...            ...    ...  \n",
       "295           True          False          False  False  \n",
       "296          False          False          False  False  \n",
       "297          False          False          False  False  \n",
       "298          False          False          False  False  \n",
       "299          False          False          False  False  \n",
       "\n",
       "[300 rows x 6 columns]"
      ]
     },
     "execution_count": 120,
     "metadata": {},
     "output_type": "execute_result"
    }
   ],
   "source": [
    "#df_4_lockdown"
   ]
  },
  {
   "cell_type": "code",
   "execution_count": 121,
   "metadata": {},
   "outputs": [],
   "source": [
    "df_cur = df_4_mask\n",
    "df_cur['label'] = None\n",
    "\n",
    "for i in range(len(df_cur)):\n",
    "    label_true = 0\n",
    "    label_false = 0\n",
    "    \n",
    "    for col in df_cur.loc[i][1:]:\n",
    "        if col:\n",
    "            label_true+=1\n",
    "        else:\n",
    "            label_false+=1\n",
    "    \n",
    "    if label_true > label_false:\n",
    "        df_cur.iloc[i, 5] = True\n",
    "    elif label_true < label_false:\n",
    "        df_cur.iloc[i, 5] = False\n",
    "    else: #labels are same\n",
    "        kappa_scores = 0\n",
    "        kappa_scores += kappa_1 if df_cur.loc[i][1] else -kappa_1\n",
    "        kappa_scores += kappa_2 if df_cur.loc[i][1] else -kappa_2\n",
    "        kappa_scores += kappa_3 if df_cur.loc[i][1] else -kappa_3\n",
    "        kappa_scores += kappa_4 if df_cur.loc[i][1] else -kappa_4\n",
    "\n",
    "        df_cur.iloc[i, 5] = True if kappa_scores>=0 else False\n",
    "        \n",
    "df_4_mask = df_cur"
   ]
  },
  {
   "cell_type": "code",
   "execution_count": 122,
   "metadata": {},
   "outputs": [],
   "source": [
    "df_cur = df_4_vaccination\n",
    "df_cur['label'] = None\n",
    "\n",
    "for i in range(len(df_cur)):\n",
    "    label_true = 0\n",
    "    label_false = 0\n",
    "    \n",
    "    for col in df_cur.loc[i][1:]:\n",
    "        if col:\n",
    "            label_true+=1\n",
    "        else:\n",
    "            label_false+=1\n",
    "    \n",
    "    if label_true > label_false:\n",
    "        df_cur.iloc[i, 5] = True\n",
    "    elif label_true < label_false:\n",
    "        df_cur.iloc[i, 5] = False\n",
    "    else: #labels are same\n",
    "        kappa_scores = 0\n",
    "        kappa_scores += kappa_1 if df_cur.loc[i][1] else -kappa_1\n",
    "        kappa_scores += kappa_2 if df_cur.loc[i][1] else -kappa_2\n",
    "        kappa_scores += kappa_3 if df_cur.loc[i][1] else -kappa_3\n",
    "        kappa_scores += kappa_4 if df_cur.loc[i][1] else -kappa_4\n",
    "\n",
    "        df_cur.iloc[i, 5] = True if kappa_scores>=0 else False\n",
    "        \n",
    "df_4_vaccination = df_cur"
   ]
  },
  {
   "cell_type": "markdown",
   "metadata": {},
   "source": [
    "### For 3 annotations"
   ]
  },
  {
   "cell_type": "code",
   "execution_count": 98,
   "metadata": {},
   "outputs": [],
   "source": [
    "df_cur = df_3_lockdown\n",
    "df_cur['label'] = None\n",
    "\n",
    "for i in range(len(df_cur)):\n",
    "    label_true = 0\n",
    "    label_false = 0\n",
    "    \n",
    "    for col in df_cur.loc[i][1:]:\n",
    "        if col:\n",
    "            label_true+=1\n",
    "        else:\n",
    "            label_false+=1\n",
    "    \n",
    "    if label_true > label_false:\n",
    "        df_cur.iloc[i, 4] = True\n",
    "    elif label_true < label_false:\n",
    "        df_cur.iloc[i, 4] = False\n",
    "    else: #labels are same\n",
    "        kappa_scores = 0\n",
    "        kappa_scores += kappa_1 if df_cur.loc[i][1] else -kappa_1\n",
    "        kappa_scores += kappa_2 if df_cur.loc[i][1] else -kappa_2\n",
    "        kappa_scores += kappa_3 if df_cur.loc[i][1] else -kappa_3\n",
    "        kappa_scores += kappa_4 if df_cur.loc[i][1] else -kappa_4\n",
    "\n",
    "        df_cur.iloc[i, 4] = True if kappa_scores>=0 else False\n",
    "        \n",
    "df_3_lockdown = df_cur"
   ]
  },
  {
   "cell_type": "code",
   "execution_count": 99,
   "metadata": {},
   "outputs": [],
   "source": [
    "df_cur = df_3_mask\n",
    "df_cur['label'] = None\n",
    "\n",
    "for i in range(len(df_cur)):\n",
    "    label_true = 0\n",
    "    label_false = 0\n",
    "    \n",
    "    for col in df_cur.loc[i][1:]:\n",
    "        if col:\n",
    "            label_true+=1\n",
    "        else:\n",
    "            label_false+=1\n",
    "    \n",
    "    if label_true > label_false:\n",
    "        df_cur.iloc[i, 4] = True\n",
    "    elif label_true < label_false:\n",
    "        df_cur.iloc[i, 4] = False\n",
    "    else: #labels are same\n",
    "        kappa_scores = 0\n",
    "        kappa_scores += kappa_1 if df_cur.loc[i][1] else -kappa_1\n",
    "        kappa_scores += kappa_2 if df_cur.loc[i][1] else -kappa_2\n",
    "        kappa_scores += kappa_3 if df_cur.loc[i][1] else -kappa_3\n",
    "        kappa_scores += kappa_4 if df_cur.loc[i][1] else -kappa_4\n",
    "\n",
    "        df_cur.iloc[i, 4] = True if kappa_scores>=0 else False\n",
    "        \n",
    "df_3_mask = df_cur"
   ]
  },
  {
   "cell_type": "code",
   "execution_count": 100,
   "metadata": {},
   "outputs": [],
   "source": [
    "df_cur = df_3_vaccination\n",
    "df_cur['label'] = None\n",
    "\n",
    "for i in range(len(df_cur)):\n",
    "    label_true = 0\n",
    "    label_false = 0\n",
    "    \n",
    "    for col in df_cur.loc[i][1:]:\n",
    "        if col:\n",
    "            label_true+=1\n",
    "        else:\n",
    "            label_false+=1\n",
    "    \n",
    "    if label_true > label_false:\n",
    "        df_cur.iloc[i, 4] = True\n",
    "    elif label_true < label_false:\n",
    "        df_cur.iloc[i, 4] = False\n",
    "    else: #labels are same\n",
    "        kappa_scores = 0\n",
    "        kappa_scores += kappa_1 if df_cur.loc[i][1] else -kappa_1\n",
    "        kappa_scores += kappa_2 if df_cur.loc[i][1] else -kappa_2\n",
    "        kappa_scores += kappa_3 if df_cur.loc[i][1] else -kappa_3\n",
    "        kappa_scores += kappa_4 if df_cur.loc[i][1] else -kappa_4\n",
    "\n",
    "        df_cur.iloc[i, 4] = True if kappa_scores>=0 else False\n",
    "        \n",
    "df_3_vaccination = df_cur"
   ]
  },
  {
   "cell_type": "markdown",
   "metadata": {},
   "source": [
    "# Combine Datasets\n",
    "### Combine each label type to itself"
   ]
  },
  {
   "cell_type": "markdown",
   "metadata": {},
   "source": [
    "### Lockdown"
   ]
  },
  {
   "cell_type": "code",
   "execution_count": 123,
   "metadata": {},
   "outputs": [],
   "source": [
    "df_lockdown_secondary = df_0_lockdown[['text', 'label']]\n",
    "df_lockdown_secondary = df_lockdown_secondary.append(df_1_lockdown[['text','label']], ignore_index = True)\n",
    "df_lockdown_secondary = df_lockdown_secondary.append(df_2_lockdown[['text','label']], ignore_index = True)\n",
    "df_lockdown_secondary = df_lockdown_secondary.append(df_3_lockdown[['text','label']], ignore_index = True)\n",
    "df_lockdown_secondary = df_lockdown_secondary.append(df_4_lockdown[['text','label']], ignore_index = True)"
   ]
  },
  {
   "cell_type": "code",
   "execution_count": 125,
   "metadata": {},
   "outputs": [
    {
     "data": {
      "text/html": [
       "<div>\n",
       "<style scoped>\n",
       "    .dataframe tbody tr th:only-of-type {\n",
       "        vertical-align: middle;\n",
       "    }\n",
       "\n",
       "    .dataframe tbody tr th {\n",
       "        vertical-align: top;\n",
       "    }\n",
       "\n",
       "    .dataframe thead th {\n",
       "        text-align: right;\n",
       "    }\n",
       "</style>\n",
       "<table border=\"1\" class=\"dataframe\">\n",
       "  <thead>\n",
       "    <tr style=\"text-align: right;\">\n",
       "      <th></th>\n",
       "      <th>text</th>\n",
       "      <th>label</th>\n",
       "    </tr>\n",
       "  </thead>\n",
       "  <tbody>\n",
       "    <tr>\n",
       "      <th>0</th>\n",
       "      <td>Save Western Ghats from annihilation</td>\n",
       "      <td>False</td>\n",
       "    </tr>\n",
       "    <tr>\n",
       "      <th>1</th>\n",
       "      <td>Save Beacon Hill Park</td>\n",
       "      <td>False</td>\n",
       "    </tr>\n",
       "    <tr>\n",
       "      <th>2</th>\n",
       "      <td>Government of India: Don't Tax Medical Bills</td>\n",
       "      <td>False</td>\n",
       "    </tr>\n",
       "    <tr>\n",
       "      <th>3</th>\n",
       "      <td>NO FAILING @ UCR</td>\n",
       "      <td>False</td>\n",
       "    </tr>\n",
       "    <tr>\n",
       "      <th>4</th>\n",
       "      <td>WIAA - Let them play football!</td>\n",
       "      <td>False</td>\n",
       "    </tr>\n",
       "    <tr>\n",
       "      <th>...</th>\n",
       "      <td>...</td>\n",
       "      <td>...</td>\n",
       "    </tr>\n",
       "    <tr>\n",
       "      <th>1475</th>\n",
       "      <td>Allow parents to temporarily home educate with...</td>\n",
       "      <td>False</td>\n",
       "    </tr>\n",
       "    <tr>\n",
       "      <th>1476</th>\n",
       "      <td>There will be a day AFTER COVID-19.  Help us c...</td>\n",
       "      <td>False</td>\n",
       "    </tr>\n",
       "    <tr>\n",
       "      <th>1477</th>\n",
       "      <td>Close Madison City Schools due to COVID-19</td>\n",
       "      <td>True</td>\n",
       "    </tr>\n",
       "    <tr>\n",
       "      <th>1478</th>\n",
       "      <td>Mthuli Ncube to remove 2% charge from all elec...</td>\n",
       "      <td>False</td>\n",
       "    </tr>\n",
       "    <tr>\n",
       "      <th>1479</th>\n",
       "      <td>Partially Refund Loughborough University Tuiti...</td>\n",
       "      <td>False</td>\n",
       "    </tr>\n",
       "  </tbody>\n",
       "</table>\n",
       "<p>1480 rows × 2 columns</p>\n",
       "</div>"
      ],
      "text/plain": [
       "                                                   text  label\n",
       "0                  Save Western Ghats from annihilation  False\n",
       "1                                 Save Beacon Hill Park  False\n",
       "2          Government of India: Don't Tax Medical Bills  False\n",
       "3                                      NO FAILING @ UCR  False\n",
       "4                        WIAA - Let them play football!  False\n",
       "...                                                 ...    ...\n",
       "1475  Allow parents to temporarily home educate with...  False\n",
       "1476  There will be a day AFTER COVID-19.  Help us c...  False\n",
       "1477         Close Madison City Schools due to COVID-19   True\n",
       "1478  Mthuli Ncube to remove 2% charge from all elec...  False\n",
       "1479  Partially Refund Loughborough University Tuiti...  False\n",
       "\n",
       "[1480 rows x 2 columns]"
      ]
     },
     "execution_count": 125,
     "metadata": {},
     "output_type": "execute_result"
    }
   ],
   "source": [
    "df_lockdown_secondary.head(-20)"
   ]
  },
  {
   "cell_type": "code",
   "execution_count": 126,
   "metadata": {},
   "outputs": [],
   "source": [
    "df_lockdown_secondary.to_csv(\"changeorg_topic_lockdown.csv\")"
   ]
  },
  {
   "cell_type": "markdown",
   "metadata": {},
   "source": [
    "### Masking and Distancing"
   ]
  },
  {
   "cell_type": "code",
   "execution_count": 127,
   "metadata": {},
   "outputs": [],
   "source": [
    "df_mask_secondary = df_0_mask[['text', 'label']]\n",
    "df_mask_secondary = df_mask_secondary.append(df_1_mask[['text','label']], ignore_index = True)\n",
    "df_mask_secondary = df_mask_secondary.append(df_2_mask[['text','label']], ignore_index = True)\n",
    "df_mask_secondary = df_mask_secondary.append(df_3_mask[['text','label']], ignore_index = True)\n",
    "df_mask_secondary = df_mask_secondary.append(df_4_mask[['text','label']], ignore_index = True)"
   ]
  },
  {
   "cell_type": "code",
   "execution_count": 128,
   "metadata": {},
   "outputs": [
    {
     "data": {
      "text/html": [
       "<div>\n",
       "<style scoped>\n",
       "    .dataframe tbody tr th:only-of-type {\n",
       "        vertical-align: middle;\n",
       "    }\n",
       "\n",
       "    .dataframe tbody tr th {\n",
       "        vertical-align: top;\n",
       "    }\n",
       "\n",
       "    .dataframe thead th {\n",
       "        text-align: right;\n",
       "    }\n",
       "</style>\n",
       "<table border=\"1\" class=\"dataframe\">\n",
       "  <thead>\n",
       "    <tr style=\"text-align: right;\">\n",
       "      <th></th>\n",
       "      <th>text</th>\n",
       "      <th>label</th>\n",
       "    </tr>\n",
       "  </thead>\n",
       "  <tbody>\n",
       "    <tr>\n",
       "      <th>0</th>\n",
       "      <td>Save Western Ghats from annihilation</td>\n",
       "      <td>False</td>\n",
       "    </tr>\n",
       "    <tr>\n",
       "      <th>1</th>\n",
       "      <td>Save Beacon Hill Park</td>\n",
       "      <td>False</td>\n",
       "    </tr>\n",
       "    <tr>\n",
       "      <th>2</th>\n",
       "      <td>Government of India: Don't Tax Medical Bills</td>\n",
       "      <td>False</td>\n",
       "    </tr>\n",
       "    <tr>\n",
       "      <th>3</th>\n",
       "      <td>NO FAILING @ UCR</td>\n",
       "      <td>False</td>\n",
       "    </tr>\n",
       "    <tr>\n",
       "      <th>4</th>\n",
       "      <td>WIAA - Let them play football!</td>\n",
       "      <td>False</td>\n",
       "    </tr>\n",
       "  </tbody>\n",
       "</table>\n",
       "</div>"
      ],
      "text/plain": [
       "                                           text  label\n",
       "0          Save Western Ghats from annihilation  False\n",
       "1                         Save Beacon Hill Park  False\n",
       "2  Government of India: Don't Tax Medical Bills  False\n",
       "3                              NO FAILING @ UCR  False\n",
       "4                WIAA - Let them play football!  False"
      ]
     },
     "execution_count": 128,
     "metadata": {},
     "output_type": "execute_result"
    }
   ],
   "source": [
    "df_mask_secondary.head()"
   ]
  },
  {
   "cell_type": "code",
   "execution_count": 129,
   "metadata": {},
   "outputs": [],
   "source": [
    "df_mask_secondary.to_csv(\"changeorg_topic_masking_and_distancing.csv\")"
   ]
  },
  {
   "cell_type": "markdown",
   "metadata": {},
   "source": [
    "### Vaccination"
   ]
  },
  {
   "cell_type": "code",
   "execution_count": 130,
   "metadata": {},
   "outputs": [],
   "source": [
    "df_vaccination_secondary = df_0_vaccination[['text', 'label']]\n",
    "df_vaccination_secondary = df_vaccination_secondary.append(df_1_vaccination[['text','label']], ignore_index = True)\n",
    "df_vaccination_secondary = df_vaccination_secondary.append(df_2_vaccination[['text','label']], ignore_index = True)\n",
    "df_vaccination_secondary = df_vaccination_secondary.append(df_3_vaccination[['text','label']], ignore_index = True)\n",
    "df_vaccination_secondary = df_vaccination_secondary.append(df_4_vaccination[['text','label']], ignore_index = True)"
   ]
  },
  {
   "cell_type": "code",
   "execution_count": 131,
   "metadata": {
    "scrolled": true
   },
   "outputs": [
    {
     "data": {
      "text/html": [
       "<div>\n",
       "<style scoped>\n",
       "    .dataframe tbody tr th:only-of-type {\n",
       "        vertical-align: middle;\n",
       "    }\n",
       "\n",
       "    .dataframe tbody tr th {\n",
       "        vertical-align: top;\n",
       "    }\n",
       "\n",
       "    .dataframe thead th {\n",
       "        text-align: right;\n",
       "    }\n",
       "</style>\n",
       "<table border=\"1\" class=\"dataframe\">\n",
       "  <thead>\n",
       "    <tr style=\"text-align: right;\">\n",
       "      <th></th>\n",
       "      <th>text</th>\n",
       "      <th>label</th>\n",
       "    </tr>\n",
       "  </thead>\n",
       "  <tbody>\n",
       "    <tr>\n",
       "      <th>0</th>\n",
       "      <td>Save Western Ghats from annihilation</td>\n",
       "      <td>False</td>\n",
       "    </tr>\n",
       "    <tr>\n",
       "      <th>1</th>\n",
       "      <td>Save Beacon Hill Park</td>\n",
       "      <td>False</td>\n",
       "    </tr>\n",
       "    <tr>\n",
       "      <th>2</th>\n",
       "      <td>Government of India: Don't Tax Medical Bills</td>\n",
       "      <td>False</td>\n",
       "    </tr>\n",
       "    <tr>\n",
       "      <th>3</th>\n",
       "      <td>NO FAILING @ UCR</td>\n",
       "      <td>False</td>\n",
       "    </tr>\n",
       "    <tr>\n",
       "      <th>4</th>\n",
       "      <td>WIAA - Let them play football!</td>\n",
       "      <td>False</td>\n",
       "    </tr>\n",
       "  </tbody>\n",
       "</table>\n",
       "</div>"
      ],
      "text/plain": [
       "                                           text  label\n",
       "0          Save Western Ghats from annihilation  False\n",
       "1                         Save Beacon Hill Park  False\n",
       "2  Government of India: Don't Tax Medical Bills  False\n",
       "3                              NO FAILING @ UCR  False\n",
       "4                WIAA - Let them play football!  False"
      ]
     },
     "execution_count": 131,
     "metadata": {},
     "output_type": "execute_result"
    }
   ],
   "source": [
    "df_vaccination_secondary.head()"
   ]
  },
  {
   "cell_type": "code",
   "execution_count": 132,
   "metadata": {},
   "outputs": [],
   "source": [
    "df_vaccination_secondary.to_csv(\"changeorg_topic_vaccination.csv\")"
   ]
  },
  {
   "cell_type": "code",
   "execution_count": null,
   "metadata": {},
   "outputs": [],
   "source": []
  }
 ],
 "metadata": {
  "kernelspec": {
   "display_name": "Python 3",
   "language": "python",
   "name": "python3"
  },
  "language_info": {
   "codemirror_mode": {
    "name": "ipython",
    "version": 3
   },
   "file_extension": ".py",
   "mimetype": "text/x-python",
   "name": "python",
   "nbconvert_exporter": "python",
   "pygments_lexer": "ipython3",
   "version": "3.8.3"
  }
 },
 "nbformat": 4,
 "nbformat_minor": 4
}
